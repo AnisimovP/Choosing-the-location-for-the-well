{
 "cells": [
  {
   "cell_type": "markdown",
   "metadata": {},
   "source": [
    "# Выбор локации для скважины"
   ]
  },
  {
   "cell_type": "markdown",
   "metadata": {},
   "source": [
    "Допустим, вы работаете в добывающей компании «ГлавРосГосНефть». Нужно решить, где бурить новую скважину.\n",
    "\n",
    "Вам предоставлены пробы нефти в трёх регионах: в каждом 10 000 месторождений, где измерили качество нефти и объём её запасов. Постройте модель машинного обучения, которая поможет определить регион, где добыча принесёт наибольшую прибыль. Проанализируйте возможную прибыль и риски техникой *Bootstrap.*\n",
    "\n",
    "Шаги для выбора локации:\n",
    "\n",
    "- В избранном регионе ищут месторождения, для каждого определяют значения признаков;\n",
    "- Строят модель и оценивают объём запасов;\n",
    "- Выбирают месторождения с самым высокими оценками значений. Количество месторождений зависит от бюджета компании и стоимости разработки одной скважины;\n",
    "- Прибыль равна суммарной прибыли отобранных месторождений."
   ]
  },
  {
   "cell_type": "markdown",
   "metadata": {},
   "source": [
    "## Загрузка и подготовка данных"
   ]
  },
  {
   "cell_type": "code",
   "execution_count": 1,
   "metadata": {},
   "outputs": [],
   "source": [
    "import matplotlib.pyplot as plt\n",
    "import numpy as np\n",
    "import pandas as pd\n",
    "from sklearn.model_selection import train_test_split\n",
    "from sklearn.linear_model import LinearRegression\n",
    "from sklearn.metrics import mean_squared_error, precision_score\n",
    "from sklearn.preprocessing import StandardScaler\n",
    "import warnings\n",
    "warnings.filterwarnings('ignore')"
   ]
  },
  {
   "cell_type": "code",
   "execution_count": 2,
   "metadata": {
    "scrolled": true
   },
   "outputs": [
    {
     "data": {
      "text/html": [
       "<div>\n",
       "<style scoped>\n",
       "    .dataframe tbody tr th:only-of-type {\n",
       "        vertical-align: middle;\n",
       "    }\n",
       "\n",
       "    .dataframe tbody tr th {\n",
       "        vertical-align: top;\n",
       "    }\n",
       "\n",
       "    .dataframe thead th {\n",
       "        text-align: right;\n",
       "    }\n",
       "</style>\n",
       "<table border=\"1\" class=\"dataframe\">\n",
       "  <thead>\n",
       "    <tr style=\"text-align: right;\">\n",
       "      <th></th>\n",
       "      <th>id</th>\n",
       "      <th>f0</th>\n",
       "      <th>f1</th>\n",
       "      <th>f2</th>\n",
       "      <th>product</th>\n",
       "    </tr>\n",
       "  </thead>\n",
       "  <tbody>\n",
       "    <tr>\n",
       "      <th>0</th>\n",
       "      <td>txEyH</td>\n",
       "      <td>0.705745</td>\n",
       "      <td>-0.497823</td>\n",
       "      <td>1.221170</td>\n",
       "      <td>105.280062</td>\n",
       "    </tr>\n",
       "    <tr>\n",
       "      <th>1</th>\n",
       "      <td>2acmU</td>\n",
       "      <td>1.334711</td>\n",
       "      <td>-0.340164</td>\n",
       "      <td>4.365080</td>\n",
       "      <td>73.037750</td>\n",
       "    </tr>\n",
       "    <tr>\n",
       "      <th>2</th>\n",
       "      <td>409Wp</td>\n",
       "      <td>1.022732</td>\n",
       "      <td>0.151990</td>\n",
       "      <td>1.419926</td>\n",
       "      <td>85.265647</td>\n",
       "    </tr>\n",
       "    <tr>\n",
       "      <th>3</th>\n",
       "      <td>iJLyR</td>\n",
       "      <td>-0.032172</td>\n",
       "      <td>0.139033</td>\n",
       "      <td>2.978566</td>\n",
       "      <td>168.620776</td>\n",
       "    </tr>\n",
       "    <tr>\n",
       "      <th>4</th>\n",
       "      <td>Xdl7t</td>\n",
       "      <td>1.988431</td>\n",
       "      <td>0.155413</td>\n",
       "      <td>4.751769</td>\n",
       "      <td>154.036647</td>\n",
       "    </tr>\n",
       "    <tr>\n",
       "      <th>5</th>\n",
       "      <td>wX4Hy</td>\n",
       "      <td>0.969570</td>\n",
       "      <td>0.489775</td>\n",
       "      <td>-0.735383</td>\n",
       "      <td>64.741541</td>\n",
       "    </tr>\n",
       "    <tr>\n",
       "      <th>6</th>\n",
       "      <td>tL6pL</td>\n",
       "      <td>0.645075</td>\n",
       "      <td>0.530656</td>\n",
       "      <td>1.780266</td>\n",
       "      <td>49.055285</td>\n",
       "    </tr>\n",
       "    <tr>\n",
       "      <th>7</th>\n",
       "      <td>BYPU6</td>\n",
       "      <td>-0.400648</td>\n",
       "      <td>0.808337</td>\n",
       "      <td>-5.624670</td>\n",
       "      <td>72.943292</td>\n",
       "    </tr>\n",
       "    <tr>\n",
       "      <th>8</th>\n",
       "      <td>j9Oui</td>\n",
       "      <td>0.643105</td>\n",
       "      <td>-0.551583</td>\n",
       "      <td>2.372141</td>\n",
       "      <td>113.356160</td>\n",
       "    </tr>\n",
       "    <tr>\n",
       "      <th>9</th>\n",
       "      <td>OLuZU</td>\n",
       "      <td>2.173381</td>\n",
       "      <td>0.563698</td>\n",
       "      <td>9.441852</td>\n",
       "      <td>127.910945</td>\n",
       "    </tr>\n",
       "  </tbody>\n",
       "</table>\n",
       "</div>"
      ],
      "text/plain": [
       "      id        f0        f1        f2     product\n",
       "0  txEyH  0.705745 -0.497823  1.221170  105.280062\n",
       "1  2acmU  1.334711 -0.340164  4.365080   73.037750\n",
       "2  409Wp  1.022732  0.151990  1.419926   85.265647\n",
       "3  iJLyR -0.032172  0.139033  2.978566  168.620776\n",
       "4  Xdl7t  1.988431  0.155413  4.751769  154.036647\n",
       "5  wX4Hy  0.969570  0.489775 -0.735383   64.741541\n",
       "6  tL6pL  0.645075  0.530656  1.780266   49.055285\n",
       "7  BYPU6 -0.400648  0.808337 -5.624670   72.943292\n",
       "8  j9Oui  0.643105 -0.551583  2.372141  113.356160\n",
       "9  OLuZU  2.173381  0.563698  9.441852  127.910945"
      ]
     },
     "execution_count": 2,
     "metadata": {},
     "output_type": "execute_result"
    }
   ],
   "source": [
    "region1 = pd.read_csv('/datasets/geo_data_0.csv')\n",
    "region1.head(10)"
   ]
  },
  {
   "cell_type": "code",
   "execution_count": 3,
   "metadata": {
    "scrolled": true
   },
   "outputs": [
    {
     "data": {
      "text/html": [
       "<div>\n",
       "<style scoped>\n",
       "    .dataframe tbody tr th:only-of-type {\n",
       "        vertical-align: middle;\n",
       "    }\n",
       "\n",
       "    .dataframe tbody tr th {\n",
       "        vertical-align: top;\n",
       "    }\n",
       "\n",
       "    .dataframe thead th {\n",
       "        text-align: right;\n",
       "    }\n",
       "</style>\n",
       "<table border=\"1\" class=\"dataframe\">\n",
       "  <thead>\n",
       "    <tr style=\"text-align: right;\">\n",
       "      <th></th>\n",
       "      <th>id</th>\n",
       "      <th>f0</th>\n",
       "      <th>f1</th>\n",
       "      <th>f2</th>\n",
       "      <th>product</th>\n",
       "    </tr>\n",
       "  </thead>\n",
       "  <tbody>\n",
       "    <tr>\n",
       "      <th>0</th>\n",
       "      <td>kBEdx</td>\n",
       "      <td>-15.001348</td>\n",
       "      <td>-8.276000</td>\n",
       "      <td>-0.005876</td>\n",
       "      <td>3.179103</td>\n",
       "    </tr>\n",
       "    <tr>\n",
       "      <th>1</th>\n",
       "      <td>62mP7</td>\n",
       "      <td>14.272088</td>\n",
       "      <td>-3.475083</td>\n",
       "      <td>0.999183</td>\n",
       "      <td>26.953261</td>\n",
       "    </tr>\n",
       "    <tr>\n",
       "      <th>2</th>\n",
       "      <td>vyE1P</td>\n",
       "      <td>6.263187</td>\n",
       "      <td>-5.948386</td>\n",
       "      <td>5.001160</td>\n",
       "      <td>134.766305</td>\n",
       "    </tr>\n",
       "    <tr>\n",
       "      <th>3</th>\n",
       "      <td>KcrkZ</td>\n",
       "      <td>-13.081196</td>\n",
       "      <td>-11.506057</td>\n",
       "      <td>4.999415</td>\n",
       "      <td>137.945408</td>\n",
       "    </tr>\n",
       "    <tr>\n",
       "      <th>4</th>\n",
       "      <td>AHL4O</td>\n",
       "      <td>12.702195</td>\n",
       "      <td>-8.147433</td>\n",
       "      <td>5.004363</td>\n",
       "      <td>134.766305</td>\n",
       "    </tr>\n",
       "    <tr>\n",
       "      <th>5</th>\n",
       "      <td>HHckp</td>\n",
       "      <td>-3.327590</td>\n",
       "      <td>-2.205276</td>\n",
       "      <td>3.003647</td>\n",
       "      <td>84.038886</td>\n",
       "    </tr>\n",
       "    <tr>\n",
       "      <th>6</th>\n",
       "      <td>h5Ujo</td>\n",
       "      <td>-11.142655</td>\n",
       "      <td>-10.133399</td>\n",
       "      <td>4.002382</td>\n",
       "      <td>110.992147</td>\n",
       "    </tr>\n",
       "    <tr>\n",
       "      <th>7</th>\n",
       "      <td>muH9x</td>\n",
       "      <td>4.234715</td>\n",
       "      <td>-0.001354</td>\n",
       "      <td>2.004588</td>\n",
       "      <td>53.906522</td>\n",
       "    </tr>\n",
       "    <tr>\n",
       "      <th>8</th>\n",
       "      <td>YiRkx</td>\n",
       "      <td>13.355129</td>\n",
       "      <td>-0.332068</td>\n",
       "      <td>4.998647</td>\n",
       "      <td>134.766305</td>\n",
       "    </tr>\n",
       "    <tr>\n",
       "      <th>9</th>\n",
       "      <td>jG6Gi</td>\n",
       "      <td>1.069227</td>\n",
       "      <td>-11.025667</td>\n",
       "      <td>4.997844</td>\n",
       "      <td>137.945408</td>\n",
       "    </tr>\n",
       "  </tbody>\n",
       "</table>\n",
       "</div>"
      ],
      "text/plain": [
       "      id         f0         f1        f2     product\n",
       "0  kBEdx -15.001348  -8.276000 -0.005876    3.179103\n",
       "1  62mP7  14.272088  -3.475083  0.999183   26.953261\n",
       "2  vyE1P   6.263187  -5.948386  5.001160  134.766305\n",
       "3  KcrkZ -13.081196 -11.506057  4.999415  137.945408\n",
       "4  AHL4O  12.702195  -8.147433  5.004363  134.766305\n",
       "5  HHckp  -3.327590  -2.205276  3.003647   84.038886\n",
       "6  h5Ujo -11.142655 -10.133399  4.002382  110.992147\n",
       "7  muH9x   4.234715  -0.001354  2.004588   53.906522\n",
       "8  YiRkx  13.355129  -0.332068  4.998647  134.766305\n",
       "9  jG6Gi   1.069227 -11.025667  4.997844  137.945408"
      ]
     },
     "execution_count": 3,
     "metadata": {},
     "output_type": "execute_result"
    }
   ],
   "source": [
    "region2 = pd.read_csv('/datasets/geo_data_1.csv')\n",
    "region2.head(10)"
   ]
  },
  {
   "cell_type": "code",
   "execution_count": 4,
   "metadata": {
    "scrolled": false
   },
   "outputs": [
    {
     "data": {
      "text/html": [
       "<div>\n",
       "<style scoped>\n",
       "    .dataframe tbody tr th:only-of-type {\n",
       "        vertical-align: middle;\n",
       "    }\n",
       "\n",
       "    .dataframe tbody tr th {\n",
       "        vertical-align: top;\n",
       "    }\n",
       "\n",
       "    .dataframe thead th {\n",
       "        text-align: right;\n",
       "    }\n",
       "</style>\n",
       "<table border=\"1\" class=\"dataframe\">\n",
       "  <thead>\n",
       "    <tr style=\"text-align: right;\">\n",
       "      <th></th>\n",
       "      <th>id</th>\n",
       "      <th>f0</th>\n",
       "      <th>f1</th>\n",
       "      <th>f2</th>\n",
       "      <th>product</th>\n",
       "    </tr>\n",
       "  </thead>\n",
       "  <tbody>\n",
       "    <tr>\n",
       "      <th>0</th>\n",
       "      <td>fwXo0</td>\n",
       "      <td>-1.146987</td>\n",
       "      <td>0.963328</td>\n",
       "      <td>-0.828965</td>\n",
       "      <td>27.758673</td>\n",
       "    </tr>\n",
       "    <tr>\n",
       "      <th>1</th>\n",
       "      <td>WJtFt</td>\n",
       "      <td>0.262778</td>\n",
       "      <td>0.269839</td>\n",
       "      <td>-2.530187</td>\n",
       "      <td>56.069697</td>\n",
       "    </tr>\n",
       "    <tr>\n",
       "      <th>2</th>\n",
       "      <td>ovLUW</td>\n",
       "      <td>0.194587</td>\n",
       "      <td>0.289035</td>\n",
       "      <td>-5.586433</td>\n",
       "      <td>62.871910</td>\n",
       "    </tr>\n",
       "    <tr>\n",
       "      <th>3</th>\n",
       "      <td>q6cA6</td>\n",
       "      <td>2.236060</td>\n",
       "      <td>-0.553760</td>\n",
       "      <td>0.930038</td>\n",
       "      <td>114.572842</td>\n",
       "    </tr>\n",
       "    <tr>\n",
       "      <th>4</th>\n",
       "      <td>WPMUX</td>\n",
       "      <td>-0.515993</td>\n",
       "      <td>1.716266</td>\n",
       "      <td>5.899011</td>\n",
       "      <td>149.600746</td>\n",
       "    </tr>\n",
       "    <tr>\n",
       "      <th>5</th>\n",
       "      <td>LzZXx</td>\n",
       "      <td>-0.758092</td>\n",
       "      <td>0.710691</td>\n",
       "      <td>2.585887</td>\n",
       "      <td>90.222465</td>\n",
       "    </tr>\n",
       "    <tr>\n",
       "      <th>6</th>\n",
       "      <td>WBHRv</td>\n",
       "      <td>-0.574891</td>\n",
       "      <td>0.317727</td>\n",
       "      <td>1.773745</td>\n",
       "      <td>45.641478</td>\n",
       "    </tr>\n",
       "    <tr>\n",
       "      <th>7</th>\n",
       "      <td>XO8fn</td>\n",
       "      <td>-1.906649</td>\n",
       "      <td>-2.458350</td>\n",
       "      <td>-0.177097</td>\n",
       "      <td>72.480640</td>\n",
       "    </tr>\n",
       "    <tr>\n",
       "      <th>8</th>\n",
       "      <td>ybmQ5</td>\n",
       "      <td>1.776292</td>\n",
       "      <td>-0.279356</td>\n",
       "      <td>3.004156</td>\n",
       "      <td>106.616832</td>\n",
       "    </tr>\n",
       "    <tr>\n",
       "      <th>9</th>\n",
       "      <td>OilcN</td>\n",
       "      <td>-1.214452</td>\n",
       "      <td>-0.439314</td>\n",
       "      <td>5.922514</td>\n",
       "      <td>52.954532</td>\n",
       "    </tr>\n",
       "  </tbody>\n",
       "</table>\n",
       "</div>"
      ],
      "text/plain": [
       "      id        f0        f1        f2     product\n",
       "0  fwXo0 -1.146987  0.963328 -0.828965   27.758673\n",
       "1  WJtFt  0.262778  0.269839 -2.530187   56.069697\n",
       "2  ovLUW  0.194587  0.289035 -5.586433   62.871910\n",
       "3  q6cA6  2.236060 -0.553760  0.930038  114.572842\n",
       "4  WPMUX -0.515993  1.716266  5.899011  149.600746\n",
       "5  LzZXx -0.758092  0.710691  2.585887   90.222465\n",
       "6  WBHRv -0.574891  0.317727  1.773745   45.641478\n",
       "7  XO8fn -1.906649 -2.458350 -0.177097   72.480640\n",
       "8  ybmQ5  1.776292 -0.279356  3.004156  106.616832\n",
       "9  OilcN -1.214452 -0.439314  5.922514   52.954532"
      ]
     },
     "execution_count": 4,
     "metadata": {},
     "output_type": "execute_result"
    }
   ],
   "source": [
    "region3 = pd.read_csv('/datasets/geo_data_2.csv')\n",
    "region3.head(10)"
   ]
  },
  {
   "cell_type": "markdown",
   "metadata": {},
   "source": [
    "### Первый регион"
   ]
  },
  {
   "cell_type": "code",
   "execution_count": 5,
   "metadata": {
    "scrolled": true
   },
   "outputs": [
    {
     "data": {
      "text/html": [
       "<div>\n",
       "<style scoped>\n",
       "    .dataframe tbody tr th:only-of-type {\n",
       "        vertical-align: middle;\n",
       "    }\n",
       "\n",
       "    .dataframe tbody tr th {\n",
       "        vertical-align: top;\n",
       "    }\n",
       "\n",
       "    .dataframe thead th {\n",
       "        text-align: right;\n",
       "    }\n",
       "</style>\n",
       "<table border=\"1\" class=\"dataframe\">\n",
       "  <thead>\n",
       "    <tr style=\"text-align: right;\">\n",
       "      <th></th>\n",
       "      <th>id</th>\n",
       "      <th>f0</th>\n",
       "      <th>f1</th>\n",
       "      <th>f2</th>\n",
       "      <th>product</th>\n",
       "    </tr>\n",
       "  </thead>\n",
       "  <tbody>\n",
       "    <tr>\n",
       "      <th>0</th>\n",
       "      <td>txEyH</td>\n",
       "      <td>0.705745</td>\n",
       "      <td>-0.497823</td>\n",
       "      <td>1.221170</td>\n",
       "      <td>105.280062</td>\n",
       "    </tr>\n",
       "    <tr>\n",
       "      <th>1</th>\n",
       "      <td>2acmU</td>\n",
       "      <td>1.334711</td>\n",
       "      <td>-0.340164</td>\n",
       "      <td>4.365080</td>\n",
       "      <td>73.037750</td>\n",
       "    </tr>\n",
       "    <tr>\n",
       "      <th>2</th>\n",
       "      <td>409Wp</td>\n",
       "      <td>1.022732</td>\n",
       "      <td>0.151990</td>\n",
       "      <td>1.419926</td>\n",
       "      <td>85.265647</td>\n",
       "    </tr>\n",
       "    <tr>\n",
       "      <th>3</th>\n",
       "      <td>iJLyR</td>\n",
       "      <td>-0.032172</td>\n",
       "      <td>0.139033</td>\n",
       "      <td>2.978566</td>\n",
       "      <td>168.620776</td>\n",
       "    </tr>\n",
       "    <tr>\n",
       "      <th>4</th>\n",
       "      <td>Xdl7t</td>\n",
       "      <td>1.988431</td>\n",
       "      <td>0.155413</td>\n",
       "      <td>4.751769</td>\n",
       "      <td>154.036647</td>\n",
       "    </tr>\n",
       "    <tr>\n",
       "      <th>5</th>\n",
       "      <td>wX4Hy</td>\n",
       "      <td>0.969570</td>\n",
       "      <td>0.489775</td>\n",
       "      <td>-0.735383</td>\n",
       "      <td>64.741541</td>\n",
       "    </tr>\n",
       "    <tr>\n",
       "      <th>6</th>\n",
       "      <td>tL6pL</td>\n",
       "      <td>0.645075</td>\n",
       "      <td>0.530656</td>\n",
       "      <td>1.780266</td>\n",
       "      <td>49.055285</td>\n",
       "    </tr>\n",
       "    <tr>\n",
       "      <th>7</th>\n",
       "      <td>BYPU6</td>\n",
       "      <td>-0.400648</td>\n",
       "      <td>0.808337</td>\n",
       "      <td>-5.624670</td>\n",
       "      <td>72.943292</td>\n",
       "    </tr>\n",
       "    <tr>\n",
       "      <th>8</th>\n",
       "      <td>j9Oui</td>\n",
       "      <td>0.643105</td>\n",
       "      <td>-0.551583</td>\n",
       "      <td>2.372141</td>\n",
       "      <td>113.356160</td>\n",
       "    </tr>\n",
       "    <tr>\n",
       "      <th>9</th>\n",
       "      <td>OLuZU</td>\n",
       "      <td>2.173381</td>\n",
       "      <td>0.563698</td>\n",
       "      <td>9.441852</td>\n",
       "      <td>127.910945</td>\n",
       "    </tr>\n",
       "  </tbody>\n",
       "</table>\n",
       "</div>"
      ],
      "text/plain": [
       "      id        f0        f1        f2     product\n",
       "0  txEyH  0.705745 -0.497823  1.221170  105.280062\n",
       "1  2acmU  1.334711 -0.340164  4.365080   73.037750\n",
       "2  409Wp  1.022732  0.151990  1.419926   85.265647\n",
       "3  iJLyR -0.032172  0.139033  2.978566  168.620776\n",
       "4  Xdl7t  1.988431  0.155413  4.751769  154.036647\n",
       "5  wX4Hy  0.969570  0.489775 -0.735383   64.741541\n",
       "6  tL6pL  0.645075  0.530656  1.780266   49.055285\n",
       "7  BYPU6 -0.400648  0.808337 -5.624670   72.943292\n",
       "8  j9Oui  0.643105 -0.551583  2.372141  113.356160\n",
       "9  OLuZU  2.173381  0.563698  9.441852  127.910945"
      ]
     },
     "execution_count": 5,
     "metadata": {},
     "output_type": "execute_result"
    }
   ],
   "source": [
    "region1.head(10)"
   ]
  },
  {
   "cell_type": "code",
   "execution_count": 6,
   "metadata": {
    "scrolled": true
   },
   "outputs": [
    {
     "name": "stdout",
     "output_type": "stream",
     "text": [
      "<class 'pandas.core.frame.DataFrame'>\n",
      "RangeIndex: 100000 entries, 0 to 99999\n",
      "Data columns (total 5 columns):\n",
      " #   Column   Non-Null Count   Dtype  \n",
      "---  ------   --------------   -----  \n",
      " 0   id       100000 non-null  object \n",
      " 1   f0       100000 non-null  float64\n",
      " 2   f1       100000 non-null  float64\n",
      " 3   f2       100000 non-null  float64\n",
      " 4   product  100000 non-null  float64\n",
      "dtypes: float64(4), object(1)\n",
      "memory usage: 3.8+ MB\n"
     ]
    }
   ],
   "source": [
    "region1.info()"
   ]
  },
  {
   "cell_type": "code",
   "execution_count": 7,
   "metadata": {
    "scrolled": true
   },
   "outputs": [
    {
     "data": {
      "text/html": [
       "<div>\n",
       "<style scoped>\n",
       "    .dataframe tbody tr th:only-of-type {\n",
       "        vertical-align: middle;\n",
       "    }\n",
       "\n",
       "    .dataframe tbody tr th {\n",
       "        vertical-align: top;\n",
       "    }\n",
       "\n",
       "    .dataframe thead th {\n",
       "        text-align: right;\n",
       "    }\n",
       "</style>\n",
       "<table border=\"1\" class=\"dataframe\">\n",
       "  <thead>\n",
       "    <tr style=\"text-align: right;\">\n",
       "      <th></th>\n",
       "      <th>f0</th>\n",
       "      <th>f1</th>\n",
       "      <th>f2</th>\n",
       "      <th>product</th>\n",
       "    </tr>\n",
       "  </thead>\n",
       "  <tbody>\n",
       "    <tr>\n",
       "      <th>count</th>\n",
       "      <td>100000.000000</td>\n",
       "      <td>100000.000000</td>\n",
       "      <td>100000.000000</td>\n",
       "      <td>100000.000000</td>\n",
       "    </tr>\n",
       "    <tr>\n",
       "      <th>mean</th>\n",
       "      <td>0.500419</td>\n",
       "      <td>0.250143</td>\n",
       "      <td>2.502647</td>\n",
       "      <td>92.500000</td>\n",
       "    </tr>\n",
       "    <tr>\n",
       "      <th>std</th>\n",
       "      <td>0.871832</td>\n",
       "      <td>0.504433</td>\n",
       "      <td>3.248248</td>\n",
       "      <td>44.288691</td>\n",
       "    </tr>\n",
       "    <tr>\n",
       "      <th>min</th>\n",
       "      <td>-1.408605</td>\n",
       "      <td>-0.848218</td>\n",
       "      <td>-12.088328</td>\n",
       "      <td>0.000000</td>\n",
       "    </tr>\n",
       "    <tr>\n",
       "      <th>25%</th>\n",
       "      <td>-0.072580</td>\n",
       "      <td>-0.200881</td>\n",
       "      <td>0.287748</td>\n",
       "      <td>56.497507</td>\n",
       "    </tr>\n",
       "    <tr>\n",
       "      <th>50%</th>\n",
       "      <td>0.502360</td>\n",
       "      <td>0.250252</td>\n",
       "      <td>2.515969</td>\n",
       "      <td>91.849972</td>\n",
       "    </tr>\n",
       "    <tr>\n",
       "      <th>75%</th>\n",
       "      <td>1.073581</td>\n",
       "      <td>0.700646</td>\n",
       "      <td>4.715088</td>\n",
       "      <td>128.564089</td>\n",
       "    </tr>\n",
       "    <tr>\n",
       "      <th>max</th>\n",
       "      <td>2.362331</td>\n",
       "      <td>1.343769</td>\n",
       "      <td>16.003790</td>\n",
       "      <td>185.364347</td>\n",
       "    </tr>\n",
       "  </tbody>\n",
       "</table>\n",
       "</div>"
      ],
      "text/plain": [
       "                  f0             f1             f2        product\n",
       "count  100000.000000  100000.000000  100000.000000  100000.000000\n",
       "mean        0.500419       0.250143       2.502647      92.500000\n",
       "std         0.871832       0.504433       3.248248      44.288691\n",
       "min        -1.408605      -0.848218     -12.088328       0.000000\n",
       "25%        -0.072580      -0.200881       0.287748      56.497507\n",
       "50%         0.502360       0.250252       2.515969      91.849972\n",
       "75%         1.073581       0.700646       4.715088     128.564089\n",
       "max         2.362331       1.343769      16.003790     185.364347"
      ]
     },
     "execution_count": 7,
     "metadata": {},
     "output_type": "execute_result"
    }
   ],
   "source": [
    "region1.describe()"
   ]
  },
  {
   "cell_type": "code",
   "execution_count": 8,
   "metadata": {
    "scrolled": true
   },
   "outputs": [
    {
     "data": {
      "text/plain": [
       "0"
      ]
     },
     "execution_count": 8,
     "metadata": {},
     "output_type": "execute_result"
    }
   ],
   "source": [
    "region1.duplicated().sum()"
   ]
  },
  {
   "cell_type": "code",
   "execution_count": 9,
   "metadata": {},
   "outputs": [],
   "source": [
    "region1 = region1.drop(['id'], axis=1)"
   ]
  },
  {
   "cell_type": "code",
   "execution_count": 10,
   "metadata": {
    "scrolled": false
   },
   "outputs": [
    {
     "data": {
      "text/html": [
       "<div>\n",
       "<style scoped>\n",
       "    .dataframe tbody tr th:only-of-type {\n",
       "        vertical-align: middle;\n",
       "    }\n",
       "\n",
       "    .dataframe tbody tr th {\n",
       "        vertical-align: top;\n",
       "    }\n",
       "\n",
       "    .dataframe thead th {\n",
       "        text-align: right;\n",
       "    }\n",
       "</style>\n",
       "<table border=\"1\" class=\"dataframe\">\n",
       "  <thead>\n",
       "    <tr style=\"text-align: right;\">\n",
       "      <th></th>\n",
       "      <th>f0</th>\n",
       "      <th>f1</th>\n",
       "      <th>f2</th>\n",
       "      <th>product</th>\n",
       "    </tr>\n",
       "  </thead>\n",
       "  <tbody>\n",
       "    <tr>\n",
       "      <th>0</th>\n",
       "      <td>0.705745</td>\n",
       "      <td>-0.497823</td>\n",
       "      <td>1.221170</td>\n",
       "      <td>105.280062</td>\n",
       "    </tr>\n",
       "    <tr>\n",
       "      <th>1</th>\n",
       "      <td>1.334711</td>\n",
       "      <td>-0.340164</td>\n",
       "      <td>4.365080</td>\n",
       "      <td>73.037750</td>\n",
       "    </tr>\n",
       "    <tr>\n",
       "      <th>2</th>\n",
       "      <td>1.022732</td>\n",
       "      <td>0.151990</td>\n",
       "      <td>1.419926</td>\n",
       "      <td>85.265647</td>\n",
       "    </tr>\n",
       "    <tr>\n",
       "      <th>3</th>\n",
       "      <td>-0.032172</td>\n",
       "      <td>0.139033</td>\n",
       "      <td>2.978566</td>\n",
       "      <td>168.620776</td>\n",
       "    </tr>\n",
       "    <tr>\n",
       "      <th>4</th>\n",
       "      <td>1.988431</td>\n",
       "      <td>0.155413</td>\n",
       "      <td>4.751769</td>\n",
       "      <td>154.036647</td>\n",
       "    </tr>\n",
       "    <tr>\n",
       "      <th>5</th>\n",
       "      <td>0.969570</td>\n",
       "      <td>0.489775</td>\n",
       "      <td>-0.735383</td>\n",
       "      <td>64.741541</td>\n",
       "    </tr>\n",
       "    <tr>\n",
       "      <th>6</th>\n",
       "      <td>0.645075</td>\n",
       "      <td>0.530656</td>\n",
       "      <td>1.780266</td>\n",
       "      <td>49.055285</td>\n",
       "    </tr>\n",
       "    <tr>\n",
       "      <th>7</th>\n",
       "      <td>-0.400648</td>\n",
       "      <td>0.808337</td>\n",
       "      <td>-5.624670</td>\n",
       "      <td>72.943292</td>\n",
       "    </tr>\n",
       "    <tr>\n",
       "      <th>8</th>\n",
       "      <td>0.643105</td>\n",
       "      <td>-0.551583</td>\n",
       "      <td>2.372141</td>\n",
       "      <td>113.356160</td>\n",
       "    </tr>\n",
       "    <tr>\n",
       "      <th>9</th>\n",
       "      <td>2.173381</td>\n",
       "      <td>0.563698</td>\n",
       "      <td>9.441852</td>\n",
       "      <td>127.910945</td>\n",
       "    </tr>\n",
       "  </tbody>\n",
       "</table>\n",
       "</div>"
      ],
      "text/plain": [
       "         f0        f1        f2     product\n",
       "0  0.705745 -0.497823  1.221170  105.280062\n",
       "1  1.334711 -0.340164  4.365080   73.037750\n",
       "2  1.022732  0.151990  1.419926   85.265647\n",
       "3 -0.032172  0.139033  2.978566  168.620776\n",
       "4  1.988431  0.155413  4.751769  154.036647\n",
       "5  0.969570  0.489775 -0.735383   64.741541\n",
       "6  0.645075  0.530656  1.780266   49.055285\n",
       "7 -0.400648  0.808337 -5.624670   72.943292\n",
       "8  0.643105 -0.551583  2.372141  113.356160\n",
       "9  2.173381  0.563698  9.441852  127.910945"
      ]
     },
     "execution_count": 10,
     "metadata": {},
     "output_type": "execute_result"
    }
   ],
   "source": [
    "region1.head(10)"
   ]
  },
  {
   "cell_type": "code",
   "execution_count": 11,
   "metadata": {},
   "outputs": [
    {
     "data": {
      "text/plain": [
       "product\n",
       "0.0    1\n",
       "dtype: int64"
      ]
     },
     "execution_count": 11,
     "metadata": {},
     "output_type": "execute_result"
    }
   ],
   "source": [
    "region1.query('product == 0').value_counts('product')"
   ]
  },
  {
   "cell_type": "markdown",
   "metadata": {},
   "source": [
    "В датафрейме пропусков, дупликатов нет. Столбец `id` не будет участвовать в обучении модели, поэтому было принято решение удалить его."
   ]
  },
  {
   "cell_type": "code",
   "execution_count": 12,
   "metadata": {},
   "outputs": [
    {
     "data": {
      "image/png": "[encoded data removed]",
      "text/plain": [
       "<Figure size 1080x648 with 1 Axes>"
      ]
     },
     "metadata": {
      "needs_background": "light"
     },
     "output_type": "display_data"
    }
   ],
   "source": [
    "plt.figure(figsize=[15,9])\n",
    "region1['product'].plot(kind = 'hist', bins = 100)\n",
    "\n",
    "plt.xlabel(\"Объем нефти на скважину, тыс. барелей\", fontsize=14, fontweight=\"bold\")\n",
    "plt.ylabel(\"Количество скважин\", fontsize=14, fontweight=\"bold\")\n",
    "\n",
    "plt.title(\"Гистограмма распределения по объему скважин\", fontsize=18, fontweight=\"bold\")\n",
    "plt.show()"
   ]
  },
  {
   "cell_type": "markdown",
   "metadata": {},
   "source": [
    "### Второй регион"
   ]
  },
  {
   "cell_type": "code",
   "execution_count": 13,
   "metadata": {},
   "outputs": [
    {
     "data": {
      "text/html": [
       "<div>\n",
       "<style scoped>\n",
       "    .dataframe tbody tr th:only-of-type {\n",
       "        vertical-align: middle;\n",
       "    }\n",
       "\n",
       "    .dataframe tbody tr th {\n",
       "        vertical-align: top;\n",
       "    }\n",
       "\n",
       "    .dataframe thead th {\n",
       "        text-align: right;\n",
       "    }\n",
       "</style>\n",
       "<table border=\"1\" class=\"dataframe\">\n",
       "  <thead>\n",
       "    <tr style=\"text-align: right;\">\n",
       "      <th></th>\n",
       "      <th>id</th>\n",
       "      <th>f0</th>\n",
       "      <th>f1</th>\n",
       "      <th>f2</th>\n",
       "      <th>product</th>\n",
       "    </tr>\n",
       "  </thead>\n",
       "  <tbody>\n",
       "    <tr>\n",
       "      <th>0</th>\n",
       "      <td>kBEdx</td>\n",
       "      <td>-15.001348</td>\n",
       "      <td>-8.276000</td>\n",
       "      <td>-0.005876</td>\n",
       "      <td>3.179103</td>\n",
       "    </tr>\n",
       "    <tr>\n",
       "      <th>1</th>\n",
       "      <td>62mP7</td>\n",
       "      <td>14.272088</td>\n",
       "      <td>-3.475083</td>\n",
       "      <td>0.999183</td>\n",
       "      <td>26.953261</td>\n",
       "    </tr>\n",
       "    <tr>\n",
       "      <th>2</th>\n",
       "      <td>vyE1P</td>\n",
       "      <td>6.263187</td>\n",
       "      <td>-5.948386</td>\n",
       "      <td>5.001160</td>\n",
       "      <td>134.766305</td>\n",
       "    </tr>\n",
       "    <tr>\n",
       "      <th>3</th>\n",
       "      <td>KcrkZ</td>\n",
       "      <td>-13.081196</td>\n",
       "      <td>-11.506057</td>\n",
       "      <td>4.999415</td>\n",
       "      <td>137.945408</td>\n",
       "    </tr>\n",
       "    <tr>\n",
       "      <th>4</th>\n",
       "      <td>AHL4O</td>\n",
       "      <td>12.702195</td>\n",
       "      <td>-8.147433</td>\n",
       "      <td>5.004363</td>\n",
       "      <td>134.766305</td>\n",
       "    </tr>\n",
       "    <tr>\n",
       "      <th>5</th>\n",
       "      <td>HHckp</td>\n",
       "      <td>-3.327590</td>\n",
       "      <td>-2.205276</td>\n",
       "      <td>3.003647</td>\n",
       "      <td>84.038886</td>\n",
       "    </tr>\n",
       "    <tr>\n",
       "      <th>6</th>\n",
       "      <td>h5Ujo</td>\n",
       "      <td>-11.142655</td>\n",
       "      <td>-10.133399</td>\n",
       "      <td>4.002382</td>\n",
       "      <td>110.992147</td>\n",
       "    </tr>\n",
       "    <tr>\n",
       "      <th>7</th>\n",
       "      <td>muH9x</td>\n",
       "      <td>4.234715</td>\n",
       "      <td>-0.001354</td>\n",
       "      <td>2.004588</td>\n",
       "      <td>53.906522</td>\n",
       "    </tr>\n",
       "    <tr>\n",
       "      <th>8</th>\n",
       "      <td>YiRkx</td>\n",
       "      <td>13.355129</td>\n",
       "      <td>-0.332068</td>\n",
       "      <td>4.998647</td>\n",
       "      <td>134.766305</td>\n",
       "    </tr>\n",
       "    <tr>\n",
       "      <th>9</th>\n",
       "      <td>jG6Gi</td>\n",
       "      <td>1.069227</td>\n",
       "      <td>-11.025667</td>\n",
       "      <td>4.997844</td>\n",
       "      <td>137.945408</td>\n",
       "    </tr>\n",
       "  </tbody>\n",
       "</table>\n",
       "</div>"
      ],
      "text/plain": [
       "      id         f0         f1        f2     product\n",
       "0  kBEdx -15.001348  -8.276000 -0.005876    3.179103\n",
       "1  62mP7  14.272088  -3.475083  0.999183   26.953261\n",
       "2  vyE1P   6.263187  -5.948386  5.001160  134.766305\n",
       "3  KcrkZ -13.081196 -11.506057  4.999415  137.945408\n",
       "4  AHL4O  12.702195  -8.147433  5.004363  134.766305\n",
       "5  HHckp  -3.327590  -2.205276  3.003647   84.038886\n",
       "6  h5Ujo -11.142655 -10.133399  4.002382  110.992147\n",
       "7  muH9x   4.234715  -0.001354  2.004588   53.906522\n",
       "8  YiRkx  13.355129  -0.332068  4.998647  134.766305\n",
       "9  jG6Gi   1.069227 -11.025667  4.997844  137.945408"
      ]
     },
     "execution_count": 13,
     "metadata": {},
     "output_type": "execute_result"
    }
   ],
   "source": [
    "region2.head(10)"
   ]
  },
  {
   "cell_type": "code",
   "execution_count": 14,
   "metadata": {},
   "outputs": [
    {
     "name": "stdout",
     "output_type": "stream",
     "text": [
      "<class 'pandas.core.frame.DataFrame'>\n",
      "RangeIndex: 100000 entries, 0 to 99999\n",
      "Data columns (total 5 columns):\n",
      " #   Column   Non-Null Count   Dtype  \n",
      "---  ------   --------------   -----  \n",
      " 0   id       100000 non-null  object \n",
      " 1   f0       100000 non-null  float64\n",
      " 2   f1       100000 non-null  float64\n",
      " 3   f2       100000 non-null  float64\n",
      " 4   product  100000 non-null  float64\n",
      "dtypes: float64(4), object(1)\n",
      "memory usage: 3.8+ MB\n"
     ]
    }
   ],
   "source": [
    "region2.info()"
   ]
  },
  {
   "cell_type": "code",
   "execution_count": 15,
   "metadata": {},
   "outputs": [
    {
     "data": {
      "text/html": [
       "<div>\n",
       "<style scoped>\n",
       "    .dataframe tbody tr th:only-of-type {\n",
       "        vertical-align: middle;\n",
       "    }\n",
       "\n",
       "    .dataframe tbody tr th {\n",
       "        vertical-align: top;\n",
       "    }\n",
       "\n",
       "    .dataframe thead th {\n",
       "        text-align: right;\n",
       "    }\n",
       "</style>\n",
       "<table border=\"1\" class=\"dataframe\">\n",
       "  <thead>\n",
       "    <tr style=\"text-align: right;\">\n",
       "      <th></th>\n",
       "      <th>f0</th>\n",
       "      <th>f1</th>\n",
       "      <th>f2</th>\n",
       "      <th>product</th>\n",
       "    </tr>\n",
       "  </thead>\n",
       "  <tbody>\n",
       "    <tr>\n",
       "      <th>count</th>\n",
       "      <td>100000.000000</td>\n",
       "      <td>100000.000000</td>\n",
       "      <td>100000.000000</td>\n",
       "      <td>100000.000000</td>\n",
       "    </tr>\n",
       "    <tr>\n",
       "      <th>mean</th>\n",
       "      <td>1.141296</td>\n",
       "      <td>-4.796579</td>\n",
       "      <td>2.494541</td>\n",
       "      <td>68.825000</td>\n",
       "    </tr>\n",
       "    <tr>\n",
       "      <th>std</th>\n",
       "      <td>8.965932</td>\n",
       "      <td>5.119872</td>\n",
       "      <td>1.703572</td>\n",
       "      <td>45.944423</td>\n",
       "    </tr>\n",
       "    <tr>\n",
       "      <th>min</th>\n",
       "      <td>-31.609576</td>\n",
       "      <td>-26.358598</td>\n",
       "      <td>-0.018144</td>\n",
       "      <td>0.000000</td>\n",
       "    </tr>\n",
       "    <tr>\n",
       "      <th>25%</th>\n",
       "      <td>-6.298551</td>\n",
       "      <td>-8.267985</td>\n",
       "      <td>1.000021</td>\n",
       "      <td>26.953261</td>\n",
       "    </tr>\n",
       "    <tr>\n",
       "      <th>50%</th>\n",
       "      <td>1.153055</td>\n",
       "      <td>-4.813172</td>\n",
       "      <td>2.011479</td>\n",
       "      <td>57.085625</td>\n",
       "    </tr>\n",
       "    <tr>\n",
       "      <th>75%</th>\n",
       "      <td>8.621015</td>\n",
       "      <td>-1.332816</td>\n",
       "      <td>3.999904</td>\n",
       "      <td>107.813044</td>\n",
       "    </tr>\n",
       "    <tr>\n",
       "      <th>max</th>\n",
       "      <td>29.421755</td>\n",
       "      <td>18.734063</td>\n",
       "      <td>5.019721</td>\n",
       "      <td>137.945408</td>\n",
       "    </tr>\n",
       "  </tbody>\n",
       "</table>\n",
       "</div>"
      ],
      "text/plain": [
       "                  f0             f1             f2        product\n",
       "count  100000.000000  100000.000000  100000.000000  100000.000000\n",
       "mean        1.141296      -4.796579       2.494541      68.825000\n",
       "std         8.965932       5.119872       1.703572      45.944423\n",
       "min       -31.609576     -26.358598      -0.018144       0.000000\n",
       "25%        -6.298551      -8.267985       1.000021      26.953261\n",
       "50%         1.153055      -4.813172       2.011479      57.085625\n",
       "75%         8.621015      -1.332816       3.999904     107.813044\n",
       "max        29.421755      18.734063       5.019721     137.945408"
      ]
     },
     "execution_count": 15,
     "metadata": {},
     "output_type": "execute_result"
    }
   ],
   "source": [
    "region2.describe()"
   ]
  },
  {
   "cell_type": "code",
   "execution_count": 16,
   "metadata": {},
   "outputs": [
    {
     "data": {
      "text/plain": [
       "0"
      ]
     },
     "execution_count": 16,
     "metadata": {},
     "output_type": "execute_result"
    }
   ],
   "source": [
    "region2.duplicated().sum()"
   ]
  },
  {
   "cell_type": "code",
   "execution_count": 17,
   "metadata": {},
   "outputs": [],
   "source": [
    "region2 = region2.drop(['id'], axis=1)"
   ]
  },
  {
   "cell_type": "code",
   "execution_count": 18,
   "metadata": {
    "scrolled": false
   },
   "outputs": [
    {
     "data": {
      "text/html": [
       "<div>\n",
       "<style scoped>\n",
       "    .dataframe tbody tr th:only-of-type {\n",
       "        vertical-align: middle;\n",
       "    }\n",
       "\n",
       "    .dataframe tbody tr th {\n",
       "        vertical-align: top;\n",
       "    }\n",
       "\n",
       "    .dataframe thead th {\n",
       "        text-align: right;\n",
       "    }\n",
       "</style>\n",
       "<table border=\"1\" class=\"dataframe\">\n",
       "  <thead>\n",
       "    <tr style=\"text-align: right;\">\n",
       "      <th></th>\n",
       "      <th>f0</th>\n",
       "      <th>f1</th>\n",
       "      <th>f2</th>\n",
       "      <th>product</th>\n",
       "    </tr>\n",
       "  </thead>\n",
       "  <tbody>\n",
       "    <tr>\n",
       "      <th>0</th>\n",
       "      <td>-15.001348</td>\n",
       "      <td>-8.276000</td>\n",
       "      <td>-0.005876</td>\n",
       "      <td>3.179103</td>\n",
       "    </tr>\n",
       "    <tr>\n",
       "      <th>1</th>\n",
       "      <td>14.272088</td>\n",
       "      <td>-3.475083</td>\n",
       "      <td>0.999183</td>\n",
       "      <td>26.953261</td>\n",
       "    </tr>\n",
       "    <tr>\n",
       "      <th>2</th>\n",
       "      <td>6.263187</td>\n",
       "      <td>-5.948386</td>\n",
       "      <td>5.001160</td>\n",
       "      <td>134.766305</td>\n",
       "    </tr>\n",
       "    <tr>\n",
       "      <th>3</th>\n",
       "      <td>-13.081196</td>\n",
       "      <td>-11.506057</td>\n",
       "      <td>4.999415</td>\n",
       "      <td>137.945408</td>\n",
       "    </tr>\n",
       "    <tr>\n",
       "      <th>4</th>\n",
       "      <td>12.702195</td>\n",
       "      <td>-8.147433</td>\n",
       "      <td>5.004363</td>\n",
       "      <td>134.766305</td>\n",
       "    </tr>\n",
       "    <tr>\n",
       "      <th>5</th>\n",
       "      <td>-3.327590</td>\n",
       "      <td>-2.205276</td>\n",
       "      <td>3.003647</td>\n",
       "      <td>84.038886</td>\n",
       "    </tr>\n",
       "    <tr>\n",
       "      <th>6</th>\n",
       "      <td>-11.142655</td>\n",
       "      <td>-10.133399</td>\n",
       "      <td>4.002382</td>\n",
       "      <td>110.992147</td>\n",
       "    </tr>\n",
       "    <tr>\n",
       "      <th>7</th>\n",
       "      <td>4.234715</td>\n",
       "      <td>-0.001354</td>\n",
       "      <td>2.004588</td>\n",
       "      <td>53.906522</td>\n",
       "    </tr>\n",
       "    <tr>\n",
       "      <th>8</th>\n",
       "      <td>13.355129</td>\n",
       "      <td>-0.332068</td>\n",
       "      <td>4.998647</td>\n",
       "      <td>134.766305</td>\n",
       "    </tr>\n",
       "    <tr>\n",
       "      <th>9</th>\n",
       "      <td>1.069227</td>\n",
       "      <td>-11.025667</td>\n",
       "      <td>4.997844</td>\n",
       "      <td>137.945408</td>\n",
       "    </tr>\n",
       "  </tbody>\n",
       "</table>\n",
       "</div>"
      ],
      "text/plain": [
       "          f0         f1        f2     product\n",
       "0 -15.001348  -8.276000 -0.005876    3.179103\n",
       "1  14.272088  -3.475083  0.999183   26.953261\n",
       "2   6.263187  -5.948386  5.001160  134.766305\n",
       "3 -13.081196 -11.506057  4.999415  137.945408\n",
       "4  12.702195  -8.147433  5.004363  134.766305\n",
       "5  -3.327590  -2.205276  3.003647   84.038886\n",
       "6 -11.142655 -10.133399  4.002382  110.992147\n",
       "7   4.234715  -0.001354  2.004588   53.906522\n",
       "8  13.355129  -0.332068  4.998647  134.766305\n",
       "9   1.069227 -11.025667  4.997844  137.945408"
      ]
     },
     "execution_count": 18,
     "metadata": {},
     "output_type": "execute_result"
    }
   ],
   "source": [
    "region2.head(10)"
   ]
  },
  {
   "cell_type": "code",
   "execution_count": 19,
   "metadata": {
    "scrolled": true
   },
   "outputs": [
    {
     "data": {
      "text/plain": [
       "product\n",
       "0.0    8235\n",
       "dtype: int64"
      ]
     },
     "execution_count": 19,
     "metadata": {},
     "output_type": "execute_result"
    }
   ],
   "source": [
    "region2.query('product == 0').value_counts('product')"
   ]
  },
  {
   "cell_type": "code",
   "execution_count": 20,
   "metadata": {},
   "outputs": [
    {
     "name": "stdout",
     "output_type": "stream",
     "text": [
      "Доля пропусков 8.24%\n"
     ]
    }
   ],
   "source": [
    "print('Доля пропусков {0:.2%}'.format(len(region2.query('product == 0'))/len(region2)))"
   ]
  },
  {
   "cell_type": "code",
   "execution_count": 21,
   "metadata": {
    "scrolled": false
   },
   "outputs": [
    {
     "data": {
      "image/png": "[encoded data removed]",
      "text/plain": [
       "<Figure size 1080x648 with 1 Axes>"
      ]
     },
     "metadata": {
      "needs_background": "light"
     },
     "output_type": "display_data"
    }
   ],
   "source": [
    "plt.figure(figsize=[15,9])\n",
    "region2['product'].plot(kind = 'hist', bins = 100)\n",
    "\n",
    "plt.xlabel(\"Объем нефти на скважину, тыс. барелей\", fontsize=14, fontweight=\"bold\")\n",
    "plt.ylabel(\"Количество скважин\", fontsize=14, fontweight=\"bold\")\n",
    "\n",
    "plt.title(\"Гистограмма распределения по объему скважин\", fontsize=18, fontweight=\"bold\")\n",
    "plt.show()"
   ]
  },
  {
   "cell_type": "markdown",
   "metadata": {},
   "source": [
    "В датафрейме пропусков, дупликатов нет. Столбец `id` не будет участвовать в обучении модели, поэтому было принято решение удалить его."
   ]
  },
  {
   "cell_type": "markdown",
   "metadata": {},
   "source": [
    "### Третий регион"
   ]
  },
  {
   "cell_type": "code",
   "execution_count": 22,
   "metadata": {},
   "outputs": [
    {
     "data": {
      "text/html": [
       "<div>\n",
       "<style scoped>\n",
       "    .dataframe tbody tr th:only-of-type {\n",
       "        vertical-align: middle;\n",
       "    }\n",
       "\n",
       "    .dataframe tbody tr th {\n",
       "        vertical-align: top;\n",
       "    }\n",
       "\n",
       "    .dataframe thead th {\n",
       "        text-align: right;\n",
       "    }\n",
       "</style>\n",
       "<table border=\"1\" class=\"dataframe\">\n",
       "  <thead>\n",
       "    <tr style=\"text-align: right;\">\n",
       "      <th></th>\n",
       "      <th>id</th>\n",
       "      <th>f0</th>\n",
       "      <th>f1</th>\n",
       "      <th>f2</th>\n",
       "      <th>product</th>\n",
       "    </tr>\n",
       "  </thead>\n",
       "  <tbody>\n",
       "    <tr>\n",
       "      <th>0</th>\n",
       "      <td>fwXo0</td>\n",
       "      <td>-1.146987</td>\n",
       "      <td>0.963328</td>\n",
       "      <td>-0.828965</td>\n",
       "      <td>27.758673</td>\n",
       "    </tr>\n",
       "    <tr>\n",
       "      <th>1</th>\n",
       "      <td>WJtFt</td>\n",
       "      <td>0.262778</td>\n",
       "      <td>0.269839</td>\n",
       "      <td>-2.530187</td>\n",
       "      <td>56.069697</td>\n",
       "    </tr>\n",
       "    <tr>\n",
       "      <th>2</th>\n",
       "      <td>ovLUW</td>\n",
       "      <td>0.194587</td>\n",
       "      <td>0.289035</td>\n",
       "      <td>-5.586433</td>\n",
       "      <td>62.871910</td>\n",
       "    </tr>\n",
       "    <tr>\n",
       "      <th>3</th>\n",
       "      <td>q6cA6</td>\n",
       "      <td>2.236060</td>\n",
       "      <td>-0.553760</td>\n",
       "      <td>0.930038</td>\n",
       "      <td>114.572842</td>\n",
       "    </tr>\n",
       "    <tr>\n",
       "      <th>4</th>\n",
       "      <td>WPMUX</td>\n",
       "      <td>-0.515993</td>\n",
       "      <td>1.716266</td>\n",
       "      <td>5.899011</td>\n",
       "      <td>149.600746</td>\n",
       "    </tr>\n",
       "    <tr>\n",
       "      <th>5</th>\n",
       "      <td>LzZXx</td>\n",
       "      <td>-0.758092</td>\n",
       "      <td>0.710691</td>\n",
       "      <td>2.585887</td>\n",
       "      <td>90.222465</td>\n",
       "    </tr>\n",
       "    <tr>\n",
       "      <th>6</th>\n",
       "      <td>WBHRv</td>\n",
       "      <td>-0.574891</td>\n",
       "      <td>0.317727</td>\n",
       "      <td>1.773745</td>\n",
       "      <td>45.641478</td>\n",
       "    </tr>\n",
       "    <tr>\n",
       "      <th>7</th>\n",
       "      <td>XO8fn</td>\n",
       "      <td>-1.906649</td>\n",
       "      <td>-2.458350</td>\n",
       "      <td>-0.177097</td>\n",
       "      <td>72.480640</td>\n",
       "    </tr>\n",
       "    <tr>\n",
       "      <th>8</th>\n",
       "      <td>ybmQ5</td>\n",
       "      <td>1.776292</td>\n",
       "      <td>-0.279356</td>\n",
       "      <td>3.004156</td>\n",
       "      <td>106.616832</td>\n",
       "    </tr>\n",
       "    <tr>\n",
       "      <th>9</th>\n",
       "      <td>OilcN</td>\n",
       "      <td>-1.214452</td>\n",
       "      <td>-0.439314</td>\n",
       "      <td>5.922514</td>\n",
       "      <td>52.954532</td>\n",
       "    </tr>\n",
       "  </tbody>\n",
       "</table>\n",
       "</div>"
      ],
      "text/plain": [
       "      id        f0        f1        f2     product\n",
       "0  fwXo0 -1.146987  0.963328 -0.828965   27.758673\n",
       "1  WJtFt  0.262778  0.269839 -2.530187   56.069697\n",
       "2  ovLUW  0.194587  0.289035 -5.586433   62.871910\n",
       "3  q6cA6  2.236060 -0.553760  0.930038  114.572842\n",
       "4  WPMUX -0.515993  1.716266  5.899011  149.600746\n",
       "5  LzZXx -0.758092  0.710691  2.585887   90.222465\n",
       "6  WBHRv -0.574891  0.317727  1.773745   45.641478\n",
       "7  XO8fn -1.906649 -2.458350 -0.177097   72.480640\n",
       "8  ybmQ5  1.776292 -0.279356  3.004156  106.616832\n",
       "9  OilcN -1.214452 -0.439314  5.922514   52.954532"
      ]
     },
     "execution_count": 22,
     "metadata": {},
     "output_type": "execute_result"
    }
   ],
   "source": [
    "region3.head(10)"
   ]
  },
  {
   "cell_type": "code",
   "execution_count": 23,
   "metadata": {},
   "outputs": [
    {
     "name": "stdout",
     "output_type": "stream",
     "text": [
      "<class 'pandas.core.frame.DataFrame'>\n",
      "RangeIndex: 100000 entries, 0 to 99999\n",
      "Data columns (total 5 columns):\n",
      " #   Column   Non-Null Count   Dtype  \n",
      "---  ------   --------------   -----  \n",
      " 0   id       100000 non-null  object \n",
      " 1   f0       100000 non-null  float64\n",
      " 2   f1       100000 non-null  float64\n",
      " 3   f2       100000 non-null  float64\n",
      " 4   product  100000 non-null  float64\n",
      "dtypes: float64(4), object(1)\n",
      "memory usage: 3.8+ MB\n"
     ]
    }
   ],
   "source": [
    "region3.info()"
   ]
  },
  {
   "cell_type": "code",
   "execution_count": 24,
   "metadata": {},
   "outputs": [
    {
     "data": {
      "text/html": [
       "<div>\n",
       "<style scoped>\n",
       "    .dataframe tbody tr th:only-of-type {\n",
       "        vertical-align: middle;\n",
       "    }\n",
       "\n",
       "    .dataframe tbody tr th {\n",
       "        vertical-align: top;\n",
       "    }\n",
       "\n",
       "    .dataframe thead th {\n",
       "        text-align: right;\n",
       "    }\n",
       "</style>\n",
       "<table border=\"1\" class=\"dataframe\">\n",
       "  <thead>\n",
       "    <tr style=\"text-align: right;\">\n",
       "      <th></th>\n",
       "      <th>f0</th>\n",
       "      <th>f1</th>\n",
       "      <th>f2</th>\n",
       "      <th>product</th>\n",
       "    </tr>\n",
       "  </thead>\n",
       "  <tbody>\n",
       "    <tr>\n",
       "      <th>count</th>\n",
       "      <td>100000.000000</td>\n",
       "      <td>100000.000000</td>\n",
       "      <td>100000.000000</td>\n",
       "      <td>100000.000000</td>\n",
       "    </tr>\n",
       "    <tr>\n",
       "      <th>mean</th>\n",
       "      <td>0.002023</td>\n",
       "      <td>-0.002081</td>\n",
       "      <td>2.495128</td>\n",
       "      <td>95.000000</td>\n",
       "    </tr>\n",
       "    <tr>\n",
       "      <th>std</th>\n",
       "      <td>1.732045</td>\n",
       "      <td>1.730417</td>\n",
       "      <td>3.473445</td>\n",
       "      <td>44.749921</td>\n",
       "    </tr>\n",
       "    <tr>\n",
       "      <th>min</th>\n",
       "      <td>-8.760004</td>\n",
       "      <td>-7.084020</td>\n",
       "      <td>-11.970335</td>\n",
       "      <td>0.000000</td>\n",
       "    </tr>\n",
       "    <tr>\n",
       "      <th>25%</th>\n",
       "      <td>-1.162288</td>\n",
       "      <td>-1.174820</td>\n",
       "      <td>0.130359</td>\n",
       "      <td>59.450441</td>\n",
       "    </tr>\n",
       "    <tr>\n",
       "      <th>50%</th>\n",
       "      <td>0.009424</td>\n",
       "      <td>-0.009482</td>\n",
       "      <td>2.484236</td>\n",
       "      <td>94.925613</td>\n",
       "    </tr>\n",
       "    <tr>\n",
       "      <th>75%</th>\n",
       "      <td>1.158535</td>\n",
       "      <td>1.163678</td>\n",
       "      <td>4.858794</td>\n",
       "      <td>130.595027</td>\n",
       "    </tr>\n",
       "    <tr>\n",
       "      <th>max</th>\n",
       "      <td>7.238262</td>\n",
       "      <td>7.844801</td>\n",
       "      <td>16.739402</td>\n",
       "      <td>190.029838</td>\n",
       "    </tr>\n",
       "  </tbody>\n",
       "</table>\n",
       "</div>"
      ],
      "text/plain": [
       "                  f0             f1             f2        product\n",
       "count  100000.000000  100000.000000  100000.000000  100000.000000\n",
       "mean        0.002023      -0.002081       2.495128      95.000000\n",
       "std         1.732045       1.730417       3.473445      44.749921\n",
       "min        -8.760004      -7.084020     -11.970335       0.000000\n",
       "25%        -1.162288      -1.174820       0.130359      59.450441\n",
       "50%         0.009424      -0.009482       2.484236      94.925613\n",
       "75%         1.158535       1.163678       4.858794     130.595027\n",
       "max         7.238262       7.844801      16.739402     190.029838"
      ]
     },
     "execution_count": 24,
     "metadata": {},
     "output_type": "execute_result"
    }
   ],
   "source": [
    "region3.describe()"
   ]
  },
  {
   "cell_type": "code",
   "execution_count": 25,
   "metadata": {},
   "outputs": [],
   "source": [
    "region3 = region3.drop(['id'], axis=1)"
   ]
  },
  {
   "cell_type": "code",
   "execution_count": 26,
   "metadata": {},
   "outputs": [
    {
     "data": {
      "text/plain": [
       "0"
      ]
     },
     "execution_count": 26,
     "metadata": {},
     "output_type": "execute_result"
    }
   ],
   "source": [
    "region3.duplicated().sum()"
   ]
  },
  {
   "cell_type": "code",
   "execution_count": 27,
   "metadata": {
    "scrolled": true
   },
   "outputs": [
    {
     "data": {
      "text/plain": [
       "product\n",
       "0.0    1\n",
       "dtype: int64"
      ]
     },
     "execution_count": 27,
     "metadata": {},
     "output_type": "execute_result"
    }
   ],
   "source": [
    "region3.query('product == 0').value_counts('product')"
   ]
  },
  {
   "cell_type": "code",
   "execution_count": 28,
   "metadata": {
    "scrolled": false
   },
   "outputs": [
    {
     "data": {
      "image/png": "[encoded data removed]",
      "text/plain": [
       "<Figure size 1080x648 with 1 Axes>"
      ]
     },
     "metadata": {
      "needs_background": "light"
     },
     "output_type": "display_data"
    }
   ],
   "source": [
    "plt.figure(figsize=[15,9])\n",
    "region3['product'].plot(kind = 'hist', bins = 100)\n",
    "\n",
    "plt.xlabel(\"Объем нефти на скважину, тыс. барелей\", fontsize=14, fontweight=\"bold\")\n",
    "plt.ylabel(\"Количество скважин\", fontsize=14, fontweight=\"bold\")\n",
    "\n",
    "plt.title(\"Гистограмма распределения по объему скважин\", fontsize=18, fontweight=\"bold\")\n",
    "plt.show()"
   ]
  },
  {
   "cell_type": "markdown",
   "metadata": {},
   "source": [
    "В датафрейме пропусков, дупликатов нет. Столбец `id` не будет участвовать в обучении модели, поэтому было принято решение удалить его."
   ]
  },
  {
   "cell_type": "markdown",
   "metadata": {},
   "source": [
    "### Вывод"
   ]
  },
  {
   "cell_type": "markdown",
   "metadata": {},
   "source": [
    "Данные были подготовлены к дальнейшему обучению моделей. Пропусков и дубликатов не обнаружено. Во всех таблицах удален столбец `id`. Он не участвует в обучении модели.\n",
    "\n",
    "Также, во втором регионе присутствует очень много пустых скажен."
   ]
  },
  {
   "cell_type": "markdown",
   "metadata": {},
   "source": [
    "## Обучение и проверка модели"
   ]
  },
  {
   "cell_type": "code",
   "execution_count": 29,
   "metadata": {},
   "outputs": [],
   "source": [
    "numeric = ['f0', 'f1', 'f2']"
   ]
  },
  {
   "cell_type": "markdown",
   "metadata": {},
   "source": [
    "### Первый регион"
   ]
  },
  {
   "cell_type": "code",
   "execution_count": 30,
   "metadata": {
    "scrolled": true
   },
   "outputs": [
    {
     "data": {
      "text/plain": [
       "(100000, 4)"
      ]
     },
     "execution_count": 30,
     "metadata": {},
     "output_type": "execute_result"
    }
   ],
   "source": [
    "region1.shape"
   ]
  },
  {
   "cell_type": "code",
   "execution_count": 31,
   "metadata": {},
   "outputs": [
    {
     "name": "stdout",
     "output_type": "stream",
     "text": [
      "Размер обучающей выборки: (75000, 3)\n",
      "Размер валидационной выборки: (25000, 3)\n"
     ]
    }
   ],
   "source": [
    "features_region1 = region1.drop('product', axis = 1)\n",
    "target_region1 = region1['product']\n",
    "\n",
    "features_train_region1, features_valid_region1, target_train_region1, target_valid_region1 = train_test_split(\n",
    "    features_region1, target_region1, test_size=0.25, random_state=12345)\n",
    "\n",
    "scaler = StandardScaler()\n",
    "scaler.fit(features_train_region1[numeric])\n",
    "features_train_region1[numeric] = scaler.transform(features_train_region1[numeric])\n",
    "features_valid_region1[numeric] = scaler.transform(features_valid_region1[numeric])\n",
    "\n",
    "print('Размер обучающей выборки:', features_train_region1.shape)\n",
    "print('Размер валидационной выборки:', features_valid_region1.shape)"
   ]
  },
  {
   "cell_type": "code",
   "execution_count": 32,
   "metadata": {},
   "outputs": [
    {
     "name": "stdout",
     "output_type": "stream",
     "text": [
      "Cредний запас предсказанного сырья первого региона: 92.59 тысяч бареллей\n",
      "RMSE первого региона: 37.58\n"
     ]
    }
   ],
   "source": [
    "model = LinearRegression(normalize=False)\n",
    "model.fit(features_train_region1, target_train_region1)\n",
    "predictions_region1 = model.predict(features_valid_region1)\n",
    "rmse_region1 = mean_squared_error(target_valid_region1, predictions_region1) ** 0.5\n",
    "average_product_region1 = sum(predictions_region1)/len(predictions_region1)\n",
    "print('Cредний запас предсказанного сырья первого региона: {0:.2f} тысяч бареллей'.format(average_product_region1))\n",
    "print(\"RMSE первого региона: {0:.2f}\".format(rmse_region1))\n",
    "predictions_region1_s = pd.Series(predictions_region1)"
   ]
  },
  {
   "cell_type": "markdown",
   "metadata": {},
   "source": [
    "### Второй регион"
   ]
  },
  {
   "cell_type": "code",
   "execution_count": 33,
   "metadata": {},
   "outputs": [
    {
     "name": "stdout",
     "output_type": "stream",
     "text": [
      "Размер обучающей выборки: (75000, 3)\n",
      "Размер валидационной выборки: (25000, 3)\n"
     ]
    }
   ],
   "source": [
    "features_region2 = region2.drop('product', axis = 1)\n",
    "target_region2 = region2['product']\n",
    "\n",
    "features_train_region2, features_valid_region2, target_train_region2, target_valid_region2 = train_test_split(\n",
    "    features_region2, target_region2, test_size=0.25, random_state=12345)\n",
    "\n",
    "scaler = StandardScaler()\n",
    "scaler.fit(features_train_region2[numeric])\n",
    "features_train_region2[numeric] = scaler.transform(features_train_region2[numeric])\n",
    "features_valid_region2[numeric] = scaler.transform(features_valid_region2[numeric])\n",
    "\n",
    "print('Размер обучающей выборки:', features_train_region2.shape)\n",
    "print('Размер валидационной выборки:', features_valid_region2.shape)"
   ]
  },
  {
   "cell_type": "code",
   "execution_count": 34,
   "metadata": {},
   "outputs": [
    {
     "name": "stdout",
     "output_type": "stream",
     "text": [
      "Cредний запас предсказанного сырья второго региона: 68.73 тысяч бареллей\n",
      "RMSE второго региона: 0.89\n"
     ]
    }
   ],
   "source": [
    "model = LinearRegression(normalize=False)\n",
    "model.fit(features_train_region2, target_train_region2)\n",
    "predictions_region2 = model.predict(features_valid_region2)\n",
    "rmse_region2 = mean_squared_error(target_valid_region2, predictions_region2) ** 0.5\n",
    "average_product_region2 = sum(predictions_region2)/len(predictions_region2)\n",
    "print('Cредний запас предсказанного сырья второго региона: {0:.2f} тысяч бареллей'.format(average_product_region2))\n",
    "print(\"RMSE второго региона: {0:.2f}\".format(rmse_region2))\n",
    "predictions_region2_s = pd.Series(predictions_region2)"
   ]
  },
  {
   "cell_type": "markdown",
   "metadata": {},
   "source": [
    "### Третий регион"
   ]
  },
  {
   "cell_type": "code",
   "execution_count": 35,
   "metadata": {},
   "outputs": [
    {
     "name": "stdout",
     "output_type": "stream",
     "text": [
      "Размер обучающей выборки: (75000, 3)\n",
      "Размер валидационной выборки: (25000, 3)\n"
     ]
    }
   ],
   "source": [
    "features_region3 = region3.drop('product', axis = 1)\n",
    "target_region3 = region3['product']\n",
    "\n",
    "features_train_region3, features_valid_region3, target_train_region3, target_valid_region3 = train_test_split(\n",
    "    features_region3, target_region3, test_size=0.25, random_state=12345)\n",
    "\n",
    "scaler = StandardScaler()\n",
    "scaler.fit(features_train_region3[numeric])\n",
    "features_train_region3[numeric] = scaler.transform(features_train_region3[numeric])\n",
    "features_valid_region3[numeric] = scaler.transform(features_valid_region3[numeric])\n",
    "\n",
    "print('Размер обучающей выборки:', features_train_region3.shape)\n",
    "print('Размер валидационной выборки:', features_valid_region3.shape)"
   ]
  },
  {
   "cell_type": "code",
   "execution_count": 36,
   "metadata": {},
   "outputs": [
    {
     "name": "stdout",
     "output_type": "stream",
     "text": [
      "Cредний запас предсказанного сырья третьего региона: 94.97 тысяч бареллей\n",
      "RMSE третьего региона: 40.03\n"
     ]
    }
   ],
   "source": [
    "model = LinearRegression(normalize=False)\n",
    "model.fit(features_train_region3, target_train_region3)\n",
    "predictions_region3 = model.predict(features_valid_region3)\n",
    "rmse_region3 = mean_squared_error(target_valid_region3, predictions_region3) ** 0.5\n",
    "average_product_region3 = sum(predictions_region3)/len(predictions_region3)\n",
    "print('Cредний запас предсказанного сырья третьего региона: {0:.2f} тысяч бареллей'.format(average_product_region3))\n",
    "print(\"RMSE третьего региона: {0:.2f}\".format(rmse_region3))\n",
    "predictions_region3_s = pd.Series(predictions_region3)"
   ]
  },
  {
   "cell_type": "markdown",
   "metadata": {},
   "source": [
    "### Вывод"
   ]
  },
  {
   "cell_type": "code",
   "execution_count": 37,
   "metadata": {},
   "outputs": [
    {
     "name": "stdout",
     "output_type": "stream",
     "text": [
      "Первый регион\n",
      "Cредний запас предсказанного сырья первого региона: 92.59 тысяч бареллей\n",
      "RMSE первого региона: 37.58\n",
      "---------------\n",
      "Второй регион\n",
      "Cредний запас предсказанного сырья второго региона: 68.73 тысяч бареллей\n",
      "RMSE второго региона: 0.89\n",
      "---------------\n",
      "Третий регион\n",
      "Cредний запас предсказанного сырья третьего региона: 94.97 тысяч бареллей\n",
      "RMSE третьего региона: 40.03\n"
     ]
    }
   ],
   "source": [
    "print('Первый регион')\n",
    "print('Cредний запас предсказанного сырья первого региона: {0:.2f} тысяч бареллей'.format(average_product_region1))\n",
    "print(\"RMSE первого региона: {0:.2f}\".format(rmse_region1))\n",
    "print('---------------')\n",
    "print('Второй регион')\n",
    "print('Cредний запас предсказанного сырья второго региона: {0:.2f} тысяч бареллей'.format(average_product_region2))\n",
    "print(\"RMSE второго региона: {0:.2f}\".format(rmse_region2))\n",
    "print('---------------')\n",
    "print('Третий регион')\n",
    "print('Cредний запас предсказанного сырья третьего региона: {0:.2f} тысяч бареллей'.format(average_product_region3))\n",
    "print(\"RMSE третьего региона: {0:.2f}\".format(rmse_region3))"
   ]
  },
  {
   "cell_type": "markdown",
   "metadata": {},
   "source": [
    "По средним запасам предсказанного сырья лидирует третий регион - 94.97\n",
    "\n",
    "Хуже всего по средним запасам предсказанного сырья первый регион - 68.73\n",
    "\n",
    "\n",
    "Лучше всего модель предсказала запасы во втором регионе (RMSE - 0.89), далее в первом и третьем соотвественно. Но во втором регионе присутствуют очень большое количество нулевых данных, возможно из-за этого модель лучше обучилась."
   ]
  },
  {
   "cell_type": "markdown",
   "metadata": {},
   "source": [
    "## Подготовка к расчёту прибыли"
   ]
  },
  {
   "cell_type": "markdown",
   "metadata": {},
   "source": [
    "* При разведке региона исследуют 500 точек, из которых с помощью машинного обучения выбирают 200 лучших для разработки.\n",
    "* Бюджет на разработку скважин в регионе — 10 млрд рублей.\n",
    "* При нынешних ценах один баррель сырья приносит 450 рублей дохода. Доход с каждой единицы продукта составляет 450 тыс. рублей, поскольку объём указан в тысячах баррелей."
   ]
  },
  {
   "cell_type": "markdown",
   "metadata": {},
   "source": [
    "### Все ключевые значения для расчётов сохраните в отдельных переменных."
   ]
  },
  {
   "cell_type": "code",
   "execution_count": 38,
   "metadata": {},
   "outputs": [],
   "source": [
    "budget = 10**10 # бюджет\n",
    "exploration_research = 500 # выборка скважин\n",
    "exploration_research_max = 200 # количество скважин для разработки\n",
    "price_per_barrel = 45 * 10**4 # стоимость 1 барреля\n",
    "bootstrap_count = 1000\n",
    "mln = 10**6"
   ]
  },
  {
   "cell_type": "markdown",
   "metadata": {},
   "source": [
    "### Достаточный объём сырья для безубыточной разработки новой скважины."
   ]
  },
  {
   "cell_type": "code",
   "execution_count": 39,
   "metadata": {
    "scrolled": true
   },
   "outputs": [
    {
     "name": "stdout",
     "output_type": "stream",
     "text": [
      "Минимальное количество барелей в каждой скважине: 111.11 тыс. баррелей\n"
     ]
    }
   ],
   "source": [
    "min_barrels = budget/(price_per_barrel*exploration_research_max)\n",
    "print(\"Минимальное количество барелей в каждой скважине: {0:.2f} тыс. баррелей\".format(min_barrels))"
   ]
  },
  {
   "cell_type": "markdown",
   "metadata": {},
   "source": [
    "### Вывод"
   ]
  },
  {
   "cell_type": "markdown",
   "metadata": {},
   "source": [
    "Минимальное количество барелей в каждой скважине должен быть 111.11 тыс. баррелей. Средние показатели по регионам: 92.53, 68.60, 94.98. Как видно графикам, что у всех регионов есть часть месторождений, которые проходят минимальный порог."
   ]
  },
  {
   "cell_type": "markdown",
   "metadata": {},
   "source": [
    "## Функция для расчёта прибыли по выбранным скважинам и предсказаниям модели:"
   ]
  },
  {
   "cell_type": "markdown",
   "metadata": {},
   "source": [
    "* Выберем скважины с максимальными значениями предсказаний. Количество скважин зависит от бюджета компании и стоимости разработки одной скважины. В нашем случае выберем случайно 500 точек и отберём 200 с максимальным показателем объёма сырья\n",
    "* Просуммируем целевое значение объёма сырья, соответствующее этим предсказаниям.\n",
    "* Рассчитаем прибыль для полученного объёма сырья."
   ]
  },
  {
   "cell_type": "code",
   "execution_count": 40,
   "metadata": {},
   "outputs": [],
   "source": [
    "def revenue(target, prediction_s, count):\n",
    "    \n",
    "    probs_sorted = prediction_s.sort_values(ascending=False) \n",
    "    selected = (target[probs_sorted.index][:count].sum() * price_per_barrel)\n",
    "    margin = selected - budget\n",
    "    return margin"
   ]
  },
  {
   "cell_type": "markdown",
   "metadata": {},
   "source": [
    "## Риски и прибыль для каждого региона"
   ]
  },
  {
   "cell_type": "markdown",
   "metadata": {},
   "source": [
    "### Первый регион"
   ]
  },
  {
   "cell_type": "code",
   "execution_count": 41,
   "metadata": {},
   "outputs": [],
   "source": [
    "state = np.random.RandomState(12345)\n",
    "    \n",
    "\n",
    "def bootstrap (target, predictions):\n",
    "    values = []\n",
    "    for i in range(bootstrap_count):\n",
    "        target_subsample = target.reset_index(drop=True).sample(n = exploration_research, random_state = state, replace=True)\n",
    "        probs_sub = predictions[target_subsample.index]\n",
    "        rev = revenue(target_subsample, probs_sub, exploration_research_max)\n",
    "        values.append(rev)\n",
    "    values = pd.Series(values)\n",
    "    confidence_interval = (round(values.quantile(0.05)/mln, 2), round(values.quantile(0.95)/mln, 2))\n",
    "    mean = values.mean()\n",
    "    outcome_risk = len(values[values < 0])/len(values)*100\n",
    "    \n",
    "    print(\"Средняя выручка: {0:.2f} млн. руб\".format(mean/mln))\n",
    "    print(\"Доверительный интервал:\", confidence_interval, 'млн.руб')\n",
    "    print(\"Риск убытка: {0:.2f} % \".format(outcome_risk))\n",
    "    plt.figure(figsize=[15,9])\n",
    "    values.plot(kind = 'hist', bins = 50, grid = True)\n",
    "\n",
    "    plt.xlabel(\"Выручка, млн.руб\", fontsize=14, fontweight=\"bold\")\n",
    "    plt.ylabel(\"Количество скважин\", fontsize=14, fontweight=\"bold\")\n",
    "\n",
    "    plt.title(\"Гистограмма распределения по средней выручке\", fontsize=18, fontweight=\"bold\")\n",
    "    plt.show()"
   ]
  },
  {
   "cell_type": "code",
   "execution_count": 42,
   "metadata": {
    "scrolled": false
   },
   "outputs": [
    {
     "name": "stdout",
     "output_type": "stream",
     "text": [
      "Средняя выручка: 425.94 млн. руб\n",
      "Доверительный интервал: (-31.8, 881.34) млн.руб\n",
      "Риск убытка: 6.00 % \n"
     ]
    },
    {
     "data": {
      "image/png": "[encoded data removed]",
      "text/plain": [
       "<Figure size 1080x648 with 1 Axes>"
      ]
     },
     "metadata": {
      "needs_background": "light"
     },
     "output_type": "display_data"
    }
   ],
   "source": [
    "bootstrap(target_valid_region1, predictions_region1_s)"
   ]
  },
  {
   "cell_type": "markdown",
   "metadata": {},
   "source": [
    "### Второй регион"
   ]
  },
  {
   "cell_type": "code",
   "execution_count": 43,
   "metadata": {
    "scrolled": false
   },
   "outputs": [
    {
     "name": "stdout",
     "output_type": "stream",
     "text": [
      "Средняя выручка: 518.26 млн. руб\n",
      "Доверительный интервал: (186.59, 888.64) млн.руб\n",
      "Риск убытка: 0.30 % \n"
     ]
    },
    {
     "data": {
      "image/png": "[encoded data removed]",
      "text/plain": [
       "<Figure size 1080x648 with 1 Axes>"
      ]
     },
     "metadata": {
      "needs_background": "light"
     },
     "output_type": "display_data"
    }
   ],
   "source": [
    "bootstrap(target_valid_region2, predictions_region2_s)"
   ]
  },
  {
   "cell_type": "markdown",
   "metadata": {},
   "source": [
    "### Третий регион"
   ]
  },
  {
   "cell_type": "code",
   "execution_count": 44,
   "metadata": {},
   "outputs": [
    {
     "name": "stdout",
     "output_type": "stream",
     "text": [
      "Средняя выручка: 420.19 млн. руб\n",
      "Доверительный интервал: (-26.09, 909.6) млн.руб\n",
      "Риск убытка: 6.20 % \n"
     ]
    },
    {
     "data": {
      "image/png": "[encoded data removed]",
      "text/plain": [
       "<Figure size 1080x648 with 1 Axes>"
      ]
     },
     "metadata": {
      "needs_background": "light"
     },
     "output_type": "display_data"
    }
   ],
   "source": [
    "bootstrap(target_valid_region3, predictions_region3_s)"
   ]
  },
  {
   "cell_type": "markdown",
   "metadata": {},
   "source": [
    "### Вывод"
   ]
  },
  {
   "cell_type": "markdown",
   "metadata": {},
   "source": [
    "При применении техники bootstrap:\n",
    "* Оценка средней прибыли максимальна для второго региона (518.26 млн. руб).\n",
    "* Только второй регион прогнозирует прибыльную разработку по 95% доверительному интервалу.\n",
    "* Только второй регион проходит по пороге риска убытка (установлен 1.5%)\n",
    "* Рекомендуем регион 2 для разработки."
   ]
  },
  {
   "cell_type": "markdown",
   "metadata": {},
   "source": [
    "## Вывод"
   ]
  },
  {
   "cell_type": "markdown",
   "metadata": {},
   "source": [
    "При начальном построении модели и предсказаний:\n",
    "* В первом и втором регионе достаточно высокий средний показатель запаса предсказанного сырья(92.59 и 94.97 соответственно). Однако RMSE для данных регионов также высок (37.8 и 40.03 соответственно). Это свидетельствует о неоднозначности показателя, неточности модели регрессии.\n",
    "* Во втором регине ниже средний запас предсказанного сырья (68.73 тысяч бареллей), но крайне низкий RMSE (0.89). Это говорит о точности предсказаний и качестве построенной модели.\n",
    "* Средние показатели предсказанного сырья для одной скважины ниже теоретически необходимых (111.11)\n",
    "\n",
    "При применении техники bootstrap:\n",
    "* Оценка средней прибыли максимальна для второго региона (518.26 млн. руб).\n",
    "* Только второй регион прогнозирует прибыльную разработку по 95% доверительному интервалу.\n",
    "* Только второй регион проходит по пороге риска убытка (установлен 1.5%)\n",
    "* Рекомендуем регион 1 для разработки.\n",
    "\n",
    "Проанализировав все данные, мы рекомендуем второй регион для разработки месторождений."
   ]
  }
 ],
 "metadata": {
  "ExecuteTimeLog": [
   {
    "duration": 1666,
    "start_time": "2022-06-27T14:18:52.243Z"
   },
   {
    "duration": 378,
    "start_time": "2022-06-27T14:19:31.650Z"
   },
   {
    "duration": 149,
    "start_time": "2022-06-27T14:19:37.984Z"
   },
   {
    "duration": 145,
    "start_time": "2022-06-27T14:19:52.487Z"
   },
   {
    "duration": 212,
    "start_time": "2022-06-27T14:20:11.803Z"
   },
   {
    "duration": 217,
    "start_time": "2022-06-27T14:20:22.791Z"
   },
   {
    "duration": 10,
    "start_time": "2022-06-27T14:23:45.567Z"
   },
   {
    "duration": 19,
    "start_time": "2022-06-27T14:23:54.581Z"
   },
   {
    "duration": 41,
    "start_time": "2022-06-27T14:24:02.719Z"
   },
   {
    "duration": 48,
    "start_time": "2022-06-27T14:24:30.101Z"
   },
   {
    "duration": 5,
    "start_time": "2022-06-27T14:25:18.149Z"
   },
   {
    "duration": 9,
    "start_time": "2022-06-27T14:25:25.029Z"
   },
   {
    "duration": 11,
    "start_time": "2022-06-27T14:26:36.278Z"
   },
   {
    "duration": 17,
    "start_time": "2022-06-27T14:26:41.964Z"
   },
   {
    "duration": 42,
    "start_time": "2022-06-27T14:26:47.722Z"
   },
   {
    "duration": 57,
    "start_time": "2022-06-27T14:27:00.385Z"
   },
   {
    "duration": 125,
    "start_time": "2022-06-27T14:27:09.085Z"
   },
   {
    "duration": 5,
    "start_time": "2022-06-27T14:27:14.037Z"
   },
   {
    "duration": 12,
    "start_time": "2022-06-27T14:27:20.358Z"
   },
   {
    "duration": 10,
    "start_time": "2022-06-27T14:27:46.349Z"
   },
   {
    "duration": 11,
    "start_time": "2022-06-27T14:28:30.716Z"
   },
   {
    "duration": 1612,
    "start_time": "2022-06-27T14:28:38.619Z"
   },
   {
    "duration": 234,
    "start_time": "2022-06-27T14:28:40.235Z"
   },
   {
    "duration": 185,
    "start_time": "2022-06-27T14:28:40.472Z"
   },
   {
    "duration": 190,
    "start_time": "2022-06-27T14:28:40.662Z"
   },
   {
    "duration": 14,
    "start_time": "2022-06-27T14:28:40.854Z"
   },
   {
    "duration": 21,
    "start_time": "2022-06-27T14:28:40.871Z"
   },
   {
    "duration": 79,
    "start_time": "2022-06-27T14:28:40.895Z"
   },
   {
    "duration": 75,
    "start_time": "2022-06-27T14:28:40.977Z"
   },
   {
    "duration": 9,
    "start_time": "2022-06-27T14:28:41.055Z"
   },
   {
    "duration": 19,
    "start_time": "2022-06-27T14:28:41.068Z"
   },
   {
    "duration": 14,
    "start_time": "2022-06-27T14:28:41.089Z"
   },
   {
    "duration": 48,
    "start_time": "2022-06-27T14:28:41.104Z"
   },
   {
    "duration": 49,
    "start_time": "2022-06-27T14:28:41.155Z"
   },
   {
    "duration": 94,
    "start_time": "2022-06-27T14:28:41.206Z"
   },
   {
    "duration": 7,
    "start_time": "2022-06-27T14:28:41.303Z"
   },
   {
    "duration": 16,
    "start_time": "2022-06-27T14:28:41.314Z"
   },
   {
    "duration": 28,
    "start_time": "2022-06-27T14:28:41.333Z"
   },
   {
    "duration": 1604,
    "start_time": "2022-06-29T08:38:20.538Z"
   },
   {
    "duration": 645,
    "start_time": "2022-06-29T08:38:22.144Z"
   },
   {
    "duration": 614,
    "start_time": "2022-06-29T08:38:22.791Z"
   },
   {
    "duration": 597,
    "start_time": "2022-06-29T08:38:23.407Z"
   },
   {
    "duration": 12,
    "start_time": "2022-06-29T08:38:24.006Z"
   },
   {
    "duration": 21,
    "start_time": "2022-06-29T08:38:24.019Z"
   },
   {
    "duration": 43,
    "start_time": "2022-06-29T08:38:24.042Z"
   },
   {
    "duration": 76,
    "start_time": "2022-06-29T08:38:24.087Z"
   },
   {
    "duration": 9,
    "start_time": "2022-06-29T08:38:24.166Z"
   },
   {
    "duration": 16,
    "start_time": "2022-06-29T08:38:24.179Z"
   },
   {
    "duration": 15,
    "start_time": "2022-06-29T08:38:24.197Z"
   },
   {
    "duration": 21,
    "start_time": "2022-06-29T08:38:24.242Z"
   },
   {
    "duration": 49,
    "start_time": "2022-06-29T08:38:24.265Z"
   },
   {
    "duration": 69,
    "start_time": "2022-06-29T08:38:24.316Z"
   },
   {
    "duration": 7,
    "start_time": "2022-06-29T08:38:24.386Z"
   },
   {
    "duration": 28,
    "start_time": "2022-06-29T08:38:24.398Z"
   },
   {
    "duration": 14,
    "start_time": "2022-06-29T08:38:24.442Z"
   },
   {
    "duration": 0,
    "start_time": "2022-06-29T08:39:35.393Z"
   },
   {
    "duration": 2017,
    "start_time": "2022-06-29T08:39:38.566Z"
   },
   {
    "duration": 176,
    "start_time": "2022-06-29T08:39:48.702Z"
   },
   {
    "duration": 192,
    "start_time": "2022-06-29T08:40:42.015Z"
   },
   {
    "duration": 218,
    "start_time": "2022-06-29T08:41:07.625Z"
   },
   {
    "duration": 306,
    "start_time": "2022-06-29T08:42:20.998Z"
   },
   {
    "duration": 395,
    "start_time": "2022-06-29T08:42:26.933Z"
   },
   {
    "duration": 257,
    "start_time": "2022-06-29T08:42:35.108Z"
   },
   {
    "duration": 263,
    "start_time": "2022-06-29T08:42:39.065Z"
   },
   {
    "duration": 336,
    "start_time": "2022-06-29T08:43:09.164Z"
   },
   {
    "duration": 611,
    "start_time": "2022-06-29T08:43:13.012Z"
   },
   {
    "duration": 412,
    "start_time": "2022-06-29T08:43:16.741Z"
   },
   {
    "duration": 427,
    "start_time": "2022-06-29T08:43:47.758Z"
   },
   {
    "duration": 341,
    "start_time": "2022-06-29T08:43:55.158Z"
   },
   {
    "duration": 116,
    "start_time": "2022-06-29T08:47:22.907Z"
   },
   {
    "duration": 7,
    "start_time": "2022-06-29T08:47:34.389Z"
   },
   {
    "duration": 1308,
    "start_time": "2022-06-29T08:48:32.512Z"
   },
   {
    "duration": 1759,
    "start_time": "2022-06-29T08:48:49.754Z"
   },
   {
    "duration": 9,
    "start_time": "2022-06-29T08:49:08.610Z"
   },
   {
    "duration": 12,
    "start_time": "2022-06-29T08:49:14.224Z"
   },
   {
    "duration": 17,
    "start_time": "2022-06-29T08:49:51.387Z"
   },
   {
    "duration": 21,
    "start_time": "2022-06-29T08:50:02.377Z"
   },
   {
    "duration": 15,
    "start_time": "2022-06-29T08:50:09.081Z"
   },
   {
    "duration": 75,
    "start_time": "2022-06-29T08:56:03.396Z"
   },
   {
    "duration": 12,
    "start_time": "2022-06-29T08:56:06.576Z"
   },
   {
    "duration": 96,
    "start_time": "2022-06-29T08:56:12.927Z"
   },
   {
    "duration": 9,
    "start_time": "2022-06-29T08:56:15.332Z"
   },
   {
    "duration": 19,
    "start_time": "2022-06-29T08:56:22.478Z"
   },
   {
    "duration": 12,
    "start_time": "2022-06-29T08:56:24.366Z"
   },
   {
    "duration": 9,
    "start_time": "2022-06-29T08:57:02.229Z"
   },
   {
    "duration": 11,
    "start_time": "2022-06-29T08:57:16.076Z"
   },
   {
    "duration": 21,
    "start_time": "2022-06-29T08:57:19.383Z"
   },
   {
    "duration": 40,
    "start_time": "2022-06-29T08:57:29.141Z"
   },
   {
    "duration": 45,
    "start_time": "2022-06-29T08:57:41.923Z"
   },
   {
    "duration": 8,
    "start_time": "2022-06-29T08:58:04.716Z"
   },
   {
    "duration": 11,
    "start_time": "2022-06-29T08:58:48.029Z"
   },
   {
    "duration": 18,
    "start_time": "2022-06-29T08:58:58.501Z"
   },
   {
    "duration": 9,
    "start_time": "2022-06-29T08:59:13.306Z"
   },
   {
    "duration": 9,
    "start_time": "2022-06-29T08:59:23.611Z"
   },
   {
    "duration": 13,
    "start_time": "2022-06-29T08:59:34.339Z"
   },
   {
    "duration": 10,
    "start_time": "2022-06-29T08:59:41.844Z"
   },
   {
    "duration": 334,
    "start_time": "2022-06-29T09:00:42.066Z"
   },
   {
    "duration": 9,
    "start_time": "2022-06-29T09:08:36.081Z"
   },
   {
    "duration": 5,
    "start_time": "2022-06-29T09:08:39.225Z"
   },
   {
    "duration": 1225,
    "start_time": "2022-06-29T10:12:35.353Z"
   },
   {
    "duration": 149,
    "start_time": "2022-06-29T10:12:36.581Z"
   },
   {
    "duration": 136,
    "start_time": "2022-06-29T10:12:36.732Z"
   },
   {
    "duration": 131,
    "start_time": "2022-06-29T10:12:36.870Z"
   },
   {
    "duration": 10,
    "start_time": "2022-06-29T10:12:37.003Z"
   },
   {
    "duration": 16,
    "start_time": "2022-06-29T10:12:37.014Z"
   },
   {
    "duration": 47,
    "start_time": "2022-06-29T10:12:37.031Z"
   },
   {
    "duration": 45,
    "start_time": "2022-06-29T10:12:37.079Z"
   },
   {
    "duration": 6,
    "start_time": "2022-06-29T10:12:37.142Z"
   },
   {
    "duration": 10,
    "start_time": "2022-06-29T10:12:37.151Z"
   },
   {
    "duration": 11,
    "start_time": "2022-06-29T10:12:37.163Z"
   },
   {
    "duration": 379,
    "start_time": "2022-06-29T10:12:37.175Z"
   },
   {
    "duration": 10,
    "start_time": "2022-06-29T10:12:37.556Z"
   },
   {
    "duration": 24,
    "start_time": "2022-06-29T10:12:37.568Z"
   },
   {
    "duration": 33,
    "start_time": "2022-06-29T10:12:37.593Z"
   },
   {
    "duration": 40,
    "start_time": "2022-06-29T10:12:37.641Z"
   },
   {
    "duration": 4,
    "start_time": "2022-06-29T10:12:37.682Z"
   },
   {
    "duration": 11,
    "start_time": "2022-06-29T10:12:37.688Z"
   },
   {
    "duration": 17,
    "start_time": "2022-06-29T10:12:37.701Z"
   },
   {
    "duration": 315,
    "start_time": "2022-06-29T10:12:37.720Z"
   },
   {
    "duration": 12,
    "start_time": "2022-06-29T10:12:38.042Z"
   },
   {
    "duration": 17,
    "start_time": "2022-06-29T10:12:38.056Z"
   },
   {
    "duration": 38,
    "start_time": "2022-06-29T10:12:38.075Z"
   },
   {
    "duration": 64,
    "start_time": "2022-06-29T10:12:38.115Z"
   },
   {
    "duration": 8,
    "start_time": "2022-06-29T10:12:38.181Z"
   },
   {
    "duration": 319,
    "start_time": "2022-06-29T10:12:38.190Z"
   },
   {
    "duration": 3,
    "start_time": "2022-06-29T10:12:38.511Z"
   },
   {
    "duration": 73,
    "start_time": "2022-06-29T10:12:38.517Z"
   },
   {
    "duration": 0,
    "start_time": "2022-06-29T10:12:38.592Z"
   },
   {
    "duration": 3,
    "start_time": "2022-06-29T10:17:24.273Z"
   },
   {
    "duration": 4,
    "start_time": "2022-06-29T10:17:28.011Z"
   },
   {
    "duration": 1604,
    "start_time": "2022-06-29T11:20:08.380Z"
   },
   {
    "duration": 162,
    "start_time": "2022-06-29T11:20:09.986Z"
   },
   {
    "duration": 136,
    "start_time": "2022-06-29T11:20:10.150Z"
   },
   {
    "duration": 133,
    "start_time": "2022-06-29T11:20:10.288Z"
   },
   {
    "duration": 19,
    "start_time": "2022-06-29T11:20:10.423Z"
   },
   {
    "duration": 20,
    "start_time": "2022-06-29T11:20:10.444Z"
   },
   {
    "duration": 44,
    "start_time": "2022-06-29T11:20:10.466Z"
   },
   {
    "duration": 74,
    "start_time": "2022-06-29T11:20:10.512Z"
   },
   {
    "duration": 7,
    "start_time": "2022-06-29T11:20:10.588Z"
   },
   {
    "duration": 12,
    "start_time": "2022-06-29T11:20:10.597Z"
   },
   {
    "duration": 38,
    "start_time": "2022-06-29T11:20:10.611Z"
   },
   {
    "duration": 381,
    "start_time": "2022-06-29T11:20:10.650Z"
   },
   {
    "duration": 17,
    "start_time": "2022-06-29T11:20:11.033Z"
   },
   {
    "duration": 43,
    "start_time": "2022-06-29T11:20:11.054Z"
   },
   {
    "duration": 39,
    "start_time": "2022-06-29T11:20:11.100Z"
   },
   {
    "duration": 48,
    "start_time": "2022-06-29T11:20:11.141Z"
   },
   {
    "duration": 6,
    "start_time": "2022-06-29T11:20:11.191Z"
   },
   {
    "duration": 11,
    "start_time": "2022-06-29T11:20:11.199Z"
   },
   {
    "duration": 46,
    "start_time": "2022-06-29T11:20:11.212Z"
   },
   {
    "duration": 353,
    "start_time": "2022-06-29T11:20:11.260Z"
   },
   {
    "duration": 12,
    "start_time": "2022-06-29T11:20:11.614Z"
   },
   {
    "duration": 23,
    "start_time": "2022-06-29T11:20:11.628Z"
   },
   {
    "duration": 42,
    "start_time": "2022-06-29T11:20:11.653Z"
   },
   {
    "duration": 78,
    "start_time": "2022-06-29T11:20:11.696Z"
   },
   {
    "duration": 10,
    "start_time": "2022-06-29T11:20:11.776Z"
   },
   {
    "duration": 374,
    "start_time": "2022-06-29T11:20:11.789Z"
   },
   {
    "duration": 3,
    "start_time": "2022-06-29T11:20:12.164Z"
   },
   {
    "duration": 8,
    "start_time": "2022-06-29T11:20:12.169Z"
   },
   {
    "duration": 7,
    "start_time": "2022-06-29T11:20:12.179Z"
   },
   {
    "duration": 117,
    "start_time": "2022-06-29T11:26:26.988Z"
   },
   {
    "duration": 1499,
    "start_time": "2022-06-29T11:26:56.496Z"
   },
   {
    "duration": 173,
    "start_time": "2022-06-29T11:26:57.997Z"
   },
   {
    "duration": 137,
    "start_time": "2022-06-29T11:26:58.172Z"
   },
   {
    "duration": 152,
    "start_time": "2022-06-29T11:26:58.311Z"
   },
   {
    "duration": 11,
    "start_time": "2022-06-29T11:26:58.466Z"
   },
   {
    "duration": 22,
    "start_time": "2022-06-29T11:26:58.478Z"
   },
   {
    "duration": 84,
    "start_time": "2022-06-29T11:26:58.501Z"
   },
   {
    "duration": 56,
    "start_time": "2022-06-29T11:26:58.587Z"
   },
   {
    "duration": 7,
    "start_time": "2022-06-29T11:26:58.646Z"
   },
   {
    "duration": 24,
    "start_time": "2022-06-29T11:26:58.658Z"
   },
   {
    "duration": 19,
    "start_time": "2022-06-29T11:26:58.684Z"
   },
   {
    "duration": 424,
    "start_time": "2022-06-29T11:26:58.705Z"
   },
   {
    "duration": 12,
    "start_time": "2022-06-29T11:26:59.131Z"
   },
   {
    "duration": 56,
    "start_time": "2022-06-29T11:26:59.146Z"
   },
   {
    "duration": 39,
    "start_time": "2022-06-29T11:26:59.204Z"
   },
   {
    "duration": 49,
    "start_time": "2022-06-29T11:26:59.245Z"
   },
   {
    "duration": 6,
    "start_time": "2022-06-29T11:26:59.296Z"
   },
   {
    "duration": 39,
    "start_time": "2022-06-29T11:26:59.304Z"
   },
   {
    "duration": 15,
    "start_time": "2022-06-29T11:26:59.345Z"
   },
   {
    "duration": 368,
    "start_time": "2022-06-29T11:26:59.362Z"
   },
   {
    "duration": 15,
    "start_time": "2022-06-29T11:26:59.741Z"
   },
   {
    "duration": 18,
    "start_time": "2022-06-29T11:26:59.758Z"
   },
   {
    "duration": 36,
    "start_time": "2022-06-29T11:26:59.778Z"
   },
   {
    "duration": 78,
    "start_time": "2022-06-29T11:26:59.816Z"
   },
   {
    "duration": 9,
    "start_time": "2022-06-29T11:26:59.896Z"
   },
   {
    "duration": 440,
    "start_time": "2022-06-29T11:26:59.906Z"
   },
   {
    "duration": 6,
    "start_time": "2022-06-29T11:27:00.349Z"
   },
   {
    "duration": 20,
    "start_time": "2022-06-29T11:27:00.360Z"
   },
   {
    "duration": 147,
    "start_time": "2022-06-29T11:27:00.382Z"
   },
   {
    "duration": 0,
    "start_time": "2022-06-29T11:27:00.531Z"
   },
   {
    "duration": 20,
    "start_time": "2022-06-29T11:27:26.150Z"
   },
   {
    "duration": 4,
    "start_time": "2022-06-29T11:27:37.375Z"
   },
   {
    "duration": 15,
    "start_time": "2022-06-29T11:28:59.280Z"
   },
   {
    "duration": 23,
    "start_time": "2022-06-29T11:29:18.374Z"
   },
   {
    "duration": 14,
    "start_time": "2022-06-29T11:29:24.781Z"
   },
   {
    "duration": 17,
    "start_time": "2022-06-29T11:30:38.187Z"
   },
   {
    "duration": 14,
    "start_time": "2022-06-29T11:31:06.365Z"
   },
   {
    "duration": 14,
    "start_time": "2022-06-29T11:31:07.139Z"
   },
   {
    "duration": 18,
    "start_time": "2022-06-29T11:31:13.446Z"
   },
   {
    "duration": 3,
    "start_time": "2022-06-29T11:31:45.986Z"
   },
   {
    "duration": 6,
    "start_time": "2022-06-29T11:31:46.667Z"
   },
   {
    "duration": 20,
    "start_time": "2022-06-29T11:31:47.082Z"
   },
   {
    "duration": 19,
    "start_time": "2022-06-29T11:31:47.650Z"
   },
   {
    "duration": 5,
    "start_time": "2022-06-29T11:37:24.010Z"
   },
   {
    "duration": 82,
    "start_time": "2022-06-29T11:37:42.344Z"
   },
   {
    "duration": 12,
    "start_time": "2022-06-29T11:37:50.896Z"
   },
   {
    "duration": 12,
    "start_time": "2022-06-29T11:39:23.615Z"
   },
   {
    "duration": 26,
    "start_time": "2022-06-29T11:41:51.127Z"
   },
   {
    "duration": 14,
    "start_time": "2022-06-29T11:41:57.860Z"
   },
   {
    "duration": 246,
    "start_time": "2022-06-29T11:46:44.469Z"
   },
   {
    "duration": 14,
    "start_time": "2022-06-29T11:47:28.619Z"
   },
   {
    "duration": 13,
    "start_time": "2022-06-29T11:47:34.874Z"
   },
   {
    "duration": 1519,
    "start_time": "2022-06-29T11:49:56.426Z"
   },
   {
    "duration": 157,
    "start_time": "2022-06-29T11:49:57.947Z"
   },
   {
    "duration": 129,
    "start_time": "2022-06-29T11:49:58.106Z"
   },
   {
    "duration": 133,
    "start_time": "2022-06-29T11:49:58.237Z"
   },
   {
    "duration": 11,
    "start_time": "2022-06-29T11:49:58.372Z"
   },
   {
    "duration": 19,
    "start_time": "2022-06-29T11:49:58.385Z"
   },
   {
    "duration": 64,
    "start_time": "2022-06-29T11:49:58.406Z"
   },
   {
    "duration": 50,
    "start_time": "2022-06-29T11:49:58.471Z"
   },
   {
    "duration": 20,
    "start_time": "2022-06-29T11:49:58.522Z"
   },
   {
    "duration": 10,
    "start_time": "2022-06-29T11:49:58.543Z"
   },
   {
    "duration": 14,
    "start_time": "2022-06-29T11:49:58.555Z"
   },
   {
    "duration": 378,
    "start_time": "2022-06-29T11:49:58.571Z"
   },
   {
    "duration": 10,
    "start_time": "2022-06-29T11:49:58.951Z"
   },
   {
    "duration": 42,
    "start_time": "2022-06-29T11:49:58.964Z"
   },
   {
    "duration": 42,
    "start_time": "2022-06-29T11:49:59.008Z"
   },
   {
    "duration": 44,
    "start_time": "2022-06-29T11:49:59.052Z"
   },
   {
    "duration": 5,
    "start_time": "2022-06-29T11:49:59.098Z"
   },
   {
    "duration": 38,
    "start_time": "2022-06-29T11:49:59.105Z"
   },
   {
    "duration": 11,
    "start_time": "2022-06-29T11:49:59.145Z"
   },
   {
    "duration": 349,
    "start_time": "2022-06-29T11:49:59.158Z"
   },
   {
    "duration": 10,
    "start_time": "2022-06-29T11:49:59.509Z"
   },
   {
    "duration": 32,
    "start_time": "2022-06-29T11:49:59.521Z"
   },
   {
    "duration": 36,
    "start_time": "2022-06-29T11:49:59.555Z"
   },
   {
    "duration": 4,
    "start_time": "2022-06-29T11:49:59.592Z"
   },
   {
    "duration": 58,
    "start_time": "2022-06-29T11:49:59.597Z"
   },
   {
    "duration": 10,
    "start_time": "2022-06-29T11:49:59.657Z"
   },
   {
    "duration": 356,
    "start_time": "2022-06-29T11:49:59.669Z"
   },
   {
    "duration": 3,
    "start_time": "2022-06-29T11:50:00.027Z"
   },
   {
    "duration": 21,
    "start_time": "2022-06-29T11:50:00.032Z"
   },
   {
    "duration": 23,
    "start_time": "2022-06-29T11:50:00.054Z"
   },
   {
    "duration": 129,
    "start_time": "2022-06-29T11:50:00.079Z"
   },
   {
    "duration": 0,
    "start_time": "2022-06-29T11:50:00.209Z"
   },
   {
    "duration": 19,
    "start_time": "2022-06-29T11:51:10.090Z"
   },
   {
    "duration": 10,
    "start_time": "2022-06-29T11:51:10.573Z"
   },
   {
    "duration": 20,
    "start_time": "2022-06-29T11:51:16.904Z"
   },
   {
    "duration": 20,
    "start_time": "2022-06-29T11:51:18.167Z"
   },
   {
    "duration": 13,
    "start_time": "2022-06-29T11:54:57.251Z"
   },
   {
    "duration": 13,
    "start_time": "2022-06-29T11:55:16.614Z"
   },
   {
    "duration": 10,
    "start_time": "2022-06-29T11:56:15.342Z"
   },
   {
    "duration": 131,
    "start_time": "2022-06-29T11:56:21.598Z"
   },
   {
    "duration": 10,
    "start_time": "2022-06-29T11:57:08.226Z"
   },
   {
    "duration": 18,
    "start_time": "2022-06-29T11:57:22.470Z"
   },
   {
    "duration": 18,
    "start_time": "2022-06-29T11:57:41.327Z"
   },
   {
    "duration": 14,
    "start_time": "2022-06-29T11:57:47.804Z"
   },
   {
    "duration": 29,
    "start_time": "2022-06-29T11:58:07.605Z"
   },
   {
    "duration": 15,
    "start_time": "2022-06-29T11:58:08.715Z"
   },
   {
    "duration": 31,
    "start_time": "2022-06-29T11:59:08.863Z"
   },
   {
    "duration": 17,
    "start_time": "2022-06-29T11:59:44.923Z"
   },
   {
    "duration": 14,
    "start_time": "2022-06-29T12:00:05.906Z"
   },
   {
    "duration": 118,
    "start_time": "2022-06-29T12:02:23.292Z"
   },
   {
    "duration": 14,
    "start_time": "2022-06-29T12:02:30.471Z"
   },
   {
    "duration": 22,
    "start_time": "2022-06-29T12:02:46.802Z"
   },
   {
    "duration": 1399,
    "start_time": "2022-06-29T12:02:52.016Z"
   },
   {
    "duration": 159,
    "start_time": "2022-06-29T12:02:53.417Z"
   },
   {
    "duration": 165,
    "start_time": "2022-06-29T12:02:53.578Z"
   },
   {
    "duration": 130,
    "start_time": "2022-06-29T12:02:53.746Z"
   },
   {
    "duration": 11,
    "start_time": "2022-06-29T12:02:53.878Z"
   },
   {
    "duration": 24,
    "start_time": "2022-06-29T12:02:53.891Z"
   },
   {
    "duration": 52,
    "start_time": "2022-06-29T12:02:53.917Z"
   },
   {
    "duration": 52,
    "start_time": "2022-06-29T12:02:53.970Z"
   },
   {
    "duration": 5,
    "start_time": "2022-06-29T12:02:54.041Z"
   },
   {
    "duration": 25,
    "start_time": "2022-06-29T12:02:54.049Z"
   },
   {
    "duration": 21,
    "start_time": "2022-06-29T12:02:54.076Z"
   },
   {
    "duration": 396,
    "start_time": "2022-06-29T12:02:54.099Z"
   },
   {
    "duration": 11,
    "start_time": "2022-06-29T12:02:54.497Z"
   },
   {
    "duration": 32,
    "start_time": "2022-06-29T12:02:54.510Z"
   },
   {
    "duration": 37,
    "start_time": "2022-06-29T12:02:54.544Z"
   },
   {
    "duration": 64,
    "start_time": "2022-06-29T12:02:54.582Z"
   },
   {
    "duration": 5,
    "start_time": "2022-06-29T12:02:54.647Z"
   },
   {
    "duration": 16,
    "start_time": "2022-06-29T12:02:54.653Z"
   },
   {
    "duration": 15,
    "start_time": "2022-06-29T12:02:54.671Z"
   },
   {
    "duration": 341,
    "start_time": "2022-06-29T12:02:54.688Z"
   },
   {
    "duration": 20,
    "start_time": "2022-06-29T12:02:55.031Z"
   },
   {
    "duration": 20,
    "start_time": "2022-06-29T12:02:55.053Z"
   },
   {
    "duration": 37,
    "start_time": "2022-06-29T12:02:55.074Z"
   },
   {
    "duration": 5,
    "start_time": "2022-06-29T12:02:55.141Z"
   },
   {
    "duration": 36,
    "start_time": "2022-06-29T12:02:55.148Z"
   },
   {
    "duration": 8,
    "start_time": "2022-06-29T12:02:55.186Z"
   },
   {
    "duration": 381,
    "start_time": "2022-06-29T12:02:55.196Z"
   },
   {
    "duration": 3,
    "start_time": "2022-06-29T12:02:55.580Z"
   },
   {
    "duration": 10,
    "start_time": "2022-06-29T12:02:55.584Z"
   },
   {
    "duration": 51,
    "start_time": "2022-06-29T12:02:55.596Z"
   },
   {
    "duration": 12,
    "start_time": "2022-06-29T12:02:55.649Z"
   },
   {
    "duration": 279,
    "start_time": "2022-06-29T12:02:55.664Z"
   },
   {
    "duration": 18,
    "start_time": "2022-06-29T12:02:55.945Z"
   },
   {
    "duration": 132,
    "start_time": "2022-06-29T12:02:56.041Z"
   },
   {
    "duration": 68,
    "start_time": "2022-06-29T12:02:56.175Z"
   },
   {
    "duration": 15,
    "start_time": "2022-06-29T12:03:03.713Z"
   },
   {
    "duration": 18,
    "start_time": "2022-06-29T12:04:47.470Z"
   },
   {
    "duration": 33,
    "start_time": "2022-06-29T12:06:29.308Z"
   },
   {
    "duration": 21,
    "start_time": "2022-06-29T12:06:41.371Z"
   },
   {
    "duration": 21,
    "start_time": "2022-06-29T12:07:02.067Z"
   },
   {
    "duration": 18,
    "start_time": "2022-06-29T12:07:14.540Z"
   },
   {
    "duration": 21,
    "start_time": "2022-06-29T12:09:36.251Z"
   },
   {
    "duration": 18,
    "start_time": "2022-06-29T12:09:47.765Z"
   },
   {
    "duration": 21,
    "start_time": "2022-06-29T12:10:01.702Z"
   },
   {
    "duration": 19,
    "start_time": "2022-06-29T12:10:03.693Z"
   },
   {
    "duration": 17,
    "start_time": "2022-06-29T12:10:11.219Z"
   },
   {
    "duration": 4,
    "start_time": "2022-06-29T12:12:28.179Z"
   },
   {
    "duration": 4,
    "start_time": "2022-06-29T12:12:42.180Z"
   },
   {
    "duration": 5,
    "start_time": "2022-06-29T12:12:46.645Z"
   },
   {
    "duration": 6,
    "start_time": "2022-06-29T12:13:01.590Z"
   },
   {
    "duration": 4,
    "start_time": "2022-06-29T12:13:11.371Z"
   },
   {
    "duration": 7,
    "start_time": "2022-06-29T12:13:17.793Z"
   },
   {
    "duration": 6,
    "start_time": "2022-06-29T12:13:37.515Z"
   },
   {
    "duration": 7,
    "start_time": "2022-06-29T12:20:54.510Z"
   },
   {
    "duration": 6,
    "start_time": "2022-06-29T12:21:01.147Z"
   },
   {
    "duration": 106,
    "start_time": "2022-06-29T12:21:09.269Z"
   },
   {
    "duration": 9,
    "start_time": "2022-06-29T12:21:13.567Z"
   },
   {
    "duration": 8,
    "start_time": "2022-06-29T12:21:47.086Z"
   },
   {
    "duration": 10,
    "start_time": "2022-06-29T12:21:50.307Z"
   },
   {
    "duration": 7,
    "start_time": "2022-06-29T12:22:07.518Z"
   },
   {
    "duration": 1778,
    "start_time": "2022-06-29T12:22:23.744Z"
   },
   {
    "duration": 9,
    "start_time": "2022-06-29T12:22:30.084Z"
   },
   {
    "duration": 12,
    "start_time": "2022-06-29T12:23:13.547Z"
   },
   {
    "duration": 4,
    "start_time": "2022-06-29T12:24:41.141Z"
   },
   {
    "duration": 8,
    "start_time": "2022-06-29T12:24:43.151Z"
   },
   {
    "duration": 1452,
    "start_time": "2022-06-29T12:25:48.269Z"
   },
   {
    "duration": 162,
    "start_time": "2022-06-29T12:25:49.723Z"
   },
   {
    "duration": 133,
    "start_time": "2022-06-29T12:25:49.887Z"
   },
   {
    "duration": 138,
    "start_time": "2022-06-29T12:25:50.023Z"
   },
   {
    "duration": 12,
    "start_time": "2022-06-29T12:25:50.163Z"
   },
   {
    "duration": 17,
    "start_time": "2022-06-29T12:25:50.177Z"
   },
   {
    "duration": 65,
    "start_time": "2022-06-29T12:25:50.196Z"
   },
   {
    "duration": 51,
    "start_time": "2022-06-29T12:25:50.262Z"
   },
   {
    "duration": 4,
    "start_time": "2022-06-29T12:25:50.315Z"
   },
   {
    "duration": 10,
    "start_time": "2022-06-29T12:25:50.343Z"
   },
   {
    "duration": 14,
    "start_time": "2022-06-29T12:25:50.354Z"
   },
   {
    "duration": 377,
    "start_time": "2022-06-29T12:25:50.369Z"
   },
   {
    "duration": 11,
    "start_time": "2022-06-29T12:25:50.748Z"
   },
   {
    "duration": 43,
    "start_time": "2022-06-29T12:25:50.761Z"
   },
   {
    "duration": 39,
    "start_time": "2022-06-29T12:25:50.806Z"
   },
   {
    "duration": 46,
    "start_time": "2022-06-29T12:25:50.847Z"
   },
   {
    "duration": 5,
    "start_time": "2022-06-29T12:25:50.895Z"
   },
   {
    "duration": 41,
    "start_time": "2022-06-29T12:25:50.902Z"
   },
   {
    "duration": 9,
    "start_time": "2022-06-29T12:25:50.945Z"
   },
   {
    "duration": 6,
    "start_time": "2022-06-29T12:25:50.956Z"
   },
   {
    "duration": 348,
    "start_time": "2022-06-29T12:25:50.963Z"
   },
   {
    "duration": 10,
    "start_time": "2022-06-29T12:25:51.313Z"
   },
   {
    "duration": 30,
    "start_time": "2022-06-29T12:25:51.325Z"
   },
   {
    "duration": 45,
    "start_time": "2022-06-29T12:25:51.357Z"
   },
   {
    "duration": 4,
    "start_time": "2022-06-29T12:25:51.404Z"
   },
   {
    "duration": 60,
    "start_time": "2022-06-29T12:25:51.410Z"
   },
   {
    "duration": 10,
    "start_time": "2022-06-29T12:25:51.471Z"
   },
   {
    "duration": 371,
    "start_time": "2022-06-29T12:25:51.484Z"
   },
   {
    "duration": 4,
    "start_time": "2022-06-29T12:25:51.857Z"
   },
   {
    "duration": 25,
    "start_time": "2022-06-29T12:25:51.862Z"
   },
   {
    "duration": 35,
    "start_time": "2022-06-29T12:25:51.889Z"
   },
   {
    "duration": 30,
    "start_time": "2022-06-29T12:25:51.926Z"
   },
   {
    "duration": 302,
    "start_time": "2022-06-29T12:25:51.958Z"
   },
   {
    "duration": 179,
    "start_time": "2022-06-29T12:25:52.263Z"
   },
   {
    "duration": 37,
    "start_time": "2022-06-29T12:25:52.445Z"
   },
   {
    "duration": 76,
    "start_time": "2022-06-29T12:25:52.484Z"
   },
   {
    "duration": 102,
    "start_time": "2022-06-29T12:25:52.643Z"
   },
   {
    "duration": 2,
    "start_time": "2022-06-29T12:27:02.161Z"
   },
   {
    "duration": 3,
    "start_time": "2022-06-29T12:29:55.976Z"
   },
   {
    "duration": 4,
    "start_time": "2022-06-29T12:32:28.936Z"
   },
   {
    "duration": 3,
    "start_time": "2022-06-29T12:32:32.482Z"
   },
   {
    "duration": 104,
    "start_time": "2022-06-29T12:32:35.289Z"
   },
   {
    "duration": 3,
    "start_time": "2022-06-29T12:32:37.867Z"
   },
   {
    "duration": 22,
    "start_time": "2022-06-29T12:41:06.140Z"
   },
   {
    "duration": 120,
    "start_time": "2022-06-29T12:41:14.846Z"
   },
   {
    "duration": 19,
    "start_time": "2022-06-29T12:41:30.420Z"
   },
   {
    "duration": 19,
    "start_time": "2022-06-29T12:41:33.702Z"
   },
   {
    "duration": 5,
    "start_time": "2022-06-29T12:41:36.511Z"
   },
   {
    "duration": 6,
    "start_time": "2022-06-29T12:41:39.891Z"
   },
   {
    "duration": 3,
    "start_time": "2022-06-29T12:42:48.280Z"
   },
   {
    "duration": 3,
    "start_time": "2022-06-29T12:42:48.898Z"
   },
   {
    "duration": 3,
    "start_time": "2022-06-29T12:42:52.727Z"
   },
   {
    "duration": 3,
    "start_time": "2022-06-29T12:42:53.539Z"
   },
   {
    "duration": 3,
    "start_time": "2022-06-29T12:43:21.146Z"
   },
   {
    "duration": 4,
    "start_time": "2022-06-29T12:43:21.776Z"
   },
   {
    "duration": 4,
    "start_time": "2022-06-29T12:46:59.233Z"
   },
   {
    "duration": 4,
    "start_time": "2022-06-29T12:47:16.602Z"
   },
   {
    "duration": 3,
    "start_time": "2022-06-29T12:47:27.999Z"
   },
   {
    "duration": 3,
    "start_time": "2022-06-29T12:47:29.465Z"
   },
   {
    "duration": 3,
    "start_time": "2022-06-29T12:47:32.872Z"
   },
   {
    "duration": 3,
    "start_time": "2022-06-29T12:47:36.381Z"
   },
   {
    "duration": 4,
    "start_time": "2022-06-29T12:47:37.032Z"
   },
   {
    "duration": 3,
    "start_time": "2022-06-29T12:47:54.123Z"
   },
   {
    "duration": 5,
    "start_time": "2022-06-29T12:47:54.902Z"
   },
   {
    "duration": 4,
    "start_time": "2022-06-29T12:48:04.013Z"
   },
   {
    "duration": 4,
    "start_time": "2022-06-29T12:48:24.847Z"
   },
   {
    "duration": 23,
    "start_time": "2022-06-29T12:53:53.291Z"
   },
   {
    "duration": 19,
    "start_time": "2022-06-29T12:54:21.022Z"
   },
   {
    "duration": 19,
    "start_time": "2022-06-29T12:54:29.370Z"
   },
   {
    "duration": 11,
    "start_time": "2022-06-29T13:03:34.203Z"
   },
   {
    "duration": 11,
    "start_time": "2022-06-29T13:05:24.673Z"
   },
   {
    "duration": 1545,
    "start_time": "2022-06-29T17:48:31.405Z"
   },
   {
    "duration": 342,
    "start_time": "2022-06-29T17:48:32.952Z"
   },
   {
    "duration": 179,
    "start_time": "2022-06-29T17:48:33.296Z"
   },
   {
    "duration": 181,
    "start_time": "2022-06-29T17:48:33.477Z"
   },
   {
    "duration": 9,
    "start_time": "2022-06-29T17:48:33.660Z"
   },
   {
    "duration": 19,
    "start_time": "2022-06-29T17:48:33.671Z"
   },
   {
    "duration": 40,
    "start_time": "2022-06-29T17:48:33.692Z"
   },
   {
    "duration": 47,
    "start_time": "2022-06-29T17:48:33.734Z"
   },
   {
    "duration": 7,
    "start_time": "2022-06-29T17:48:33.784Z"
   },
   {
    "duration": 14,
    "start_time": "2022-06-29T17:48:33.794Z"
   },
   {
    "duration": 10,
    "start_time": "2022-06-29T17:48:33.824Z"
   },
   {
    "duration": 349,
    "start_time": "2022-06-29T17:48:33.835Z"
   },
   {
    "duration": 9,
    "start_time": "2022-06-29T17:48:34.186Z"
   },
   {
    "duration": 26,
    "start_time": "2022-06-29T17:48:34.197Z"
   },
   {
    "duration": 38,
    "start_time": "2022-06-29T17:48:34.224Z"
   },
   {
    "duration": 62,
    "start_time": "2022-06-29T17:48:34.263Z"
   },
   {
    "duration": 5,
    "start_time": "2022-06-29T17:48:34.327Z"
   },
   {
    "duration": 13,
    "start_time": "2022-06-29T17:48:34.333Z"
   },
   {
    "duration": 11,
    "start_time": "2022-06-29T17:48:34.347Z"
   },
   {
    "duration": 6,
    "start_time": "2022-06-29T17:48:34.359Z"
   },
   {
    "duration": 326,
    "start_time": "2022-06-29T17:48:34.366Z"
   },
   {
    "duration": 10,
    "start_time": "2022-06-29T17:48:34.694Z"
   },
   {
    "duration": 37,
    "start_time": "2022-06-29T17:48:34.706Z"
   },
   {
    "duration": 39,
    "start_time": "2022-06-29T17:48:34.745Z"
   },
   {
    "duration": 4,
    "start_time": "2022-06-29T17:48:34.786Z"
   },
   {
    "duration": 46,
    "start_time": "2022-06-29T17:48:34.791Z"
   },
   {
    "duration": 7,
    "start_time": "2022-06-29T17:48:34.839Z"
   },
   {
    "duration": 316,
    "start_time": "2022-06-29T17:48:34.849Z"
   },
   {
    "duration": 2,
    "start_time": "2022-06-29T17:48:35.167Z"
   },
   {
    "duration": 7,
    "start_time": "2022-06-29T17:48:35.171Z"
   },
   {
    "duration": 28,
    "start_time": "2022-06-29T17:48:35.179Z"
   },
   {
    "duration": 20,
    "start_time": "2022-06-29T17:48:35.223Z"
   },
   {
    "duration": 196,
    "start_time": "2022-06-29T17:48:35.328Z"
   },
   {
    "duration": 198,
    "start_time": "2022-06-29T17:48:35.525Z"
   },
   {
    "duration": 29,
    "start_time": "2022-06-29T17:48:35.725Z"
   },
   {
    "duration": 169,
    "start_time": "2022-06-29T17:48:35.756Z"
   },
   {
    "duration": 9,
    "start_time": "2022-06-29T17:48:35.927Z"
   },
   {
    "duration": 14,
    "start_time": "2022-06-29T17:48:35.938Z"
   },
   {
    "duration": 11,
    "start_time": "2022-06-29T17:48:35.953Z"
   },
   {
    "duration": 113,
    "start_time": "2022-06-29T17:48:35.965Z"
   },
   {
    "duration": 4,
    "start_time": "2022-06-29T17:56:27.751Z"
   },
   {
    "duration": 4,
    "start_time": "2022-06-29T18:09:50.962Z"
   },
   {
    "duration": 4,
    "start_time": "2022-06-29T18:09:51.640Z"
   },
   {
    "duration": 3,
    "start_time": "2022-06-29T18:09:53.370Z"
   },
   {
    "duration": 5,
    "start_time": "2022-06-29T18:16:54.669Z"
   },
   {
    "duration": 12,
    "start_time": "2022-06-29T18:19:47.469Z"
   },
   {
    "duration": 11,
    "start_time": "2022-06-29T18:20:27.579Z"
   },
   {
    "duration": 11,
    "start_time": "2022-06-29T18:21:21.742Z"
   },
   {
    "duration": 13,
    "start_time": "2022-06-29T18:21:27.116Z"
   },
   {
    "duration": 11,
    "start_time": "2022-06-29T18:21:31.762Z"
   },
   {
    "duration": 10,
    "start_time": "2022-06-29T18:21:38.067Z"
   },
   {
    "duration": 12,
    "start_time": "2022-06-29T18:21:44.772Z"
   },
   {
    "duration": 13,
    "start_time": "2022-06-29T18:21:49.970Z"
   },
   {
    "duration": 14,
    "start_time": "2022-06-29T18:22:14.814Z"
   },
   {
    "duration": 11,
    "start_time": "2022-06-29T18:22:16.394Z"
   },
   {
    "duration": 4,
    "start_time": "2022-06-29T18:40:23.918Z"
   },
   {
    "duration": 1381,
    "start_time": "2022-06-29T18:47:56.040Z"
   },
   {
    "duration": 141,
    "start_time": "2022-06-29T18:47:57.423Z"
   },
   {
    "duration": 119,
    "start_time": "2022-06-29T18:47:57.565Z"
   },
   {
    "duration": 124,
    "start_time": "2022-06-29T18:47:57.687Z"
   },
   {
    "duration": 21,
    "start_time": "2022-06-29T18:47:57.812Z"
   },
   {
    "duration": 26,
    "start_time": "2022-06-29T18:47:57.834Z"
   },
   {
    "duration": 37,
    "start_time": "2022-06-29T18:47:57.861Z"
   },
   {
    "duration": 58,
    "start_time": "2022-06-29T18:47:57.900Z"
   },
   {
    "duration": 6,
    "start_time": "2022-06-29T18:47:57.960Z"
   },
   {
    "duration": 11,
    "start_time": "2022-06-29T18:47:57.970Z"
   },
   {
    "duration": 16,
    "start_time": "2022-06-29T18:47:57.983Z"
   },
   {
    "duration": 352,
    "start_time": "2022-06-29T18:47:58.001Z"
   },
   {
    "duration": 10,
    "start_time": "2022-06-29T18:47:58.354Z"
   },
   {
    "duration": 17,
    "start_time": "2022-06-29T18:47:58.366Z"
   },
   {
    "duration": 59,
    "start_time": "2022-06-29T18:47:58.384Z"
   },
   {
    "duration": 41,
    "start_time": "2022-06-29T18:47:58.445Z"
   },
   {
    "duration": 5,
    "start_time": "2022-06-29T18:47:58.487Z"
   },
   {
    "duration": 41,
    "start_time": "2022-06-29T18:47:58.493Z"
   },
   {
    "duration": 9,
    "start_time": "2022-06-29T18:47:58.539Z"
   },
   {
    "duration": 6,
    "start_time": "2022-06-29T18:47:58.550Z"
   },
   {
    "duration": 317,
    "start_time": "2022-06-29T18:47:58.557Z"
   },
   {
    "duration": 12,
    "start_time": "2022-06-29T18:47:58.876Z"
   },
   {
    "duration": 15,
    "start_time": "2022-06-29T18:47:58.890Z"
   },
   {
    "duration": 59,
    "start_time": "2022-06-29T18:47:58.907Z"
   },
   {
    "duration": 3,
    "start_time": "2022-06-29T18:47:58.968Z"
   },
   {
    "duration": 40,
    "start_time": "2022-06-29T18:47:58.973Z"
   },
   {
    "duration": 24,
    "start_time": "2022-06-29T18:47:59.015Z"
   },
   {
    "duration": 363,
    "start_time": "2022-06-29T18:47:59.042Z"
   },
   {
    "duration": 3,
    "start_time": "2022-06-29T18:47:59.408Z"
   },
   {
    "duration": 19,
    "start_time": "2022-06-29T18:47:59.413Z"
   },
   {
    "duration": 30,
    "start_time": "2022-06-29T18:47:59.438Z"
   },
   {
    "duration": 61,
    "start_time": "2022-06-29T18:47:59.470Z"
   },
   {
    "duration": 213,
    "start_time": "2022-06-29T18:47:59.533Z"
   },
   {
    "duration": 77,
    "start_time": "2022-06-29T18:47:59.748Z"
   },
   {
    "duration": 128,
    "start_time": "2022-06-29T18:47:59.833Z"
   },
   {
    "duration": 0,
    "start_time": "2022-06-29T18:47:59.963Z"
   },
   {
    "duration": 0,
    "start_time": "2022-06-29T18:47:59.965Z"
   },
   {
    "duration": 0,
    "start_time": "2022-06-29T18:47:59.966Z"
   },
   {
    "duration": 0,
    "start_time": "2022-06-29T18:47:59.967Z"
   },
   {
    "duration": 0,
    "start_time": "2022-06-29T18:47:59.971Z"
   },
   {
    "duration": 0,
    "start_time": "2022-06-29T18:47:59.972Z"
   },
   {
    "duration": 33,
    "start_time": "2022-06-29T18:48:10.494Z"
   },
   {
    "duration": 1356,
    "start_time": "2022-06-29T18:48:14.438Z"
   },
   {
    "duration": 146,
    "start_time": "2022-06-29T18:48:15.796Z"
   },
   {
    "duration": 146,
    "start_time": "2022-06-29T18:48:15.944Z"
   },
   {
    "duration": 128,
    "start_time": "2022-06-29T18:48:16.092Z"
   },
   {
    "duration": 18,
    "start_time": "2022-06-29T18:48:16.223Z"
   },
   {
    "duration": 18,
    "start_time": "2022-06-29T18:48:16.243Z"
   },
   {
    "duration": 39,
    "start_time": "2022-06-29T18:48:16.262Z"
   },
   {
    "duration": 61,
    "start_time": "2022-06-29T18:48:16.303Z"
   },
   {
    "duration": 5,
    "start_time": "2022-06-29T18:48:16.366Z"
   },
   {
    "duration": 12,
    "start_time": "2022-06-29T18:48:16.373Z"
   },
   {
    "duration": 11,
    "start_time": "2022-06-29T18:48:16.387Z"
   },
   {
    "duration": 399,
    "start_time": "2022-06-29T18:48:16.400Z"
   },
   {
    "duration": 10,
    "start_time": "2022-06-29T18:48:16.801Z"
   },
   {
    "duration": 26,
    "start_time": "2022-06-29T18:48:16.826Z"
   },
   {
    "duration": 35,
    "start_time": "2022-06-29T18:48:16.854Z"
   },
   {
    "duration": 59,
    "start_time": "2022-06-29T18:48:16.891Z"
   },
   {
    "duration": 4,
    "start_time": "2022-06-29T18:48:16.952Z"
   },
   {
    "duration": 12,
    "start_time": "2022-06-29T18:48:16.958Z"
   },
   {
    "duration": 13,
    "start_time": "2022-06-29T18:48:16.971Z"
   },
   {
    "duration": 9,
    "start_time": "2022-06-29T18:48:16.985Z"
   },
   {
    "duration": 367,
    "start_time": "2022-06-29T18:48:16.996Z"
   },
   {
    "duration": 9,
    "start_time": "2022-06-29T18:48:17.366Z"
   },
   {
    "duration": 22,
    "start_time": "2022-06-29T18:48:17.377Z"
   },
   {
    "duration": 51,
    "start_time": "2022-06-29T18:48:17.400Z"
   },
   {
    "duration": 4,
    "start_time": "2022-06-29T18:48:17.453Z"
   },
   {
    "duration": 35,
    "start_time": "2022-06-29T18:48:17.459Z"
   },
   {
    "duration": 8,
    "start_time": "2022-06-29T18:48:17.496Z"
   },
   {
    "duration": 333,
    "start_time": "2022-06-29T18:48:17.524Z"
   },
   {
    "duration": 2,
    "start_time": "2022-06-29T18:48:17.859Z"
   },
   {
    "duration": 10,
    "start_time": "2022-06-29T18:48:17.863Z"
   },
   {
    "duration": 30,
    "start_time": "2022-06-29T18:48:17.874Z"
   },
   {
    "duration": 200,
    "start_time": "2022-06-29T18:48:17.924Z"
   },
   {
    "duration": 110,
    "start_time": "2022-06-29T18:48:18.132Z"
   },
   {
    "duration": 92,
    "start_time": "2022-06-29T18:48:18.244Z"
   },
   {
    "duration": 113,
    "start_time": "2022-06-29T18:48:18.338Z"
   },
   {
    "duration": 76,
    "start_time": "2022-06-29T18:48:18.453Z"
   },
   {
    "duration": 96,
    "start_time": "2022-06-29T18:48:18.531Z"
   },
   {
    "duration": 18,
    "start_time": "2022-06-29T18:48:18.629Z"
   },
   {
    "duration": 6,
    "start_time": "2022-06-29T18:48:18.649Z"
   },
   {
    "duration": 114,
    "start_time": "2022-06-29T18:48:18.657Z"
   },
   {
    "duration": 0,
    "start_time": "2022-06-29T18:48:18.773Z"
   },
   {
    "duration": 3,
    "start_time": "2022-06-29T19:20:59.296Z"
   },
   {
    "duration": 9,
    "start_time": "2022-06-29T19:26:50.412Z"
   },
   {
    "duration": 44,
    "start_time": "2022-06-29T19:27:21.499Z"
   },
   {
    "duration": 9,
    "start_time": "2022-06-29T19:27:23.754Z"
   },
   {
    "duration": 9,
    "start_time": "2022-06-29T19:27:53.176Z"
   },
   {
    "duration": 9,
    "start_time": "2022-06-29T19:27:57.840Z"
   },
   {
    "duration": 11,
    "start_time": "2022-06-29T19:28:02.590Z"
   },
   {
    "duration": 9,
    "start_time": "2022-06-29T19:34:58.159Z"
   },
   {
    "duration": 9,
    "start_time": "2022-06-29T19:35:02.393Z"
   },
   {
    "duration": 88,
    "start_time": "2022-06-29T19:47:40.412Z"
   },
   {
    "duration": 5,
    "start_time": "2022-06-29T19:47:45.442Z"
   },
   {
    "duration": 5,
    "start_time": "2022-06-29T19:52:31.051Z"
   },
   {
    "duration": 15,
    "start_time": "2022-06-29T19:53:13.415Z"
   },
   {
    "duration": 5,
    "start_time": "2022-06-29T19:53:47.650Z"
   },
   {
    "duration": 13,
    "start_time": "2022-06-29T19:53:48.282Z"
   },
   {
    "duration": 3,
    "start_time": "2022-06-29T19:53:54.639Z"
   },
   {
    "duration": 5,
    "start_time": "2022-06-29T19:53:57.101Z"
   },
   {
    "duration": 17,
    "start_time": "2022-06-29T19:53:57.434Z"
   },
   {
    "duration": 14,
    "start_time": "2022-06-29T19:57:17.116Z"
   },
   {
    "duration": 3,
    "start_time": "2022-06-29T19:57:45.093Z"
   },
   {
    "duration": 5,
    "start_time": "2022-06-29T19:57:45.694Z"
   },
   {
    "duration": 15,
    "start_time": "2022-06-29T19:57:46.199Z"
   },
   {
    "duration": 6,
    "start_time": "2022-06-29T19:59:17.254Z"
   },
   {
    "duration": 15,
    "start_time": "2022-06-29T19:59:18.015Z"
   },
   {
    "duration": 5,
    "start_time": "2022-06-29T20:01:08.376Z"
   },
   {
    "duration": 15,
    "start_time": "2022-06-29T20:01:08.592Z"
   },
   {
    "duration": 5,
    "start_time": "2022-06-29T20:01:38.827Z"
   },
   {
    "duration": 15,
    "start_time": "2022-06-29T20:01:39.171Z"
   },
   {
    "duration": 21,
    "start_time": "2022-06-29T20:02:04.599Z"
   },
   {
    "duration": 8,
    "start_time": "2022-06-29T20:02:45.219Z"
   },
   {
    "duration": 15,
    "start_time": "2022-06-29T20:02:45.432Z"
   },
   {
    "duration": 7,
    "start_time": "2022-06-29T20:08:56.092Z"
   },
   {
    "duration": 19,
    "start_time": "2022-06-29T20:08:57.933Z"
   },
   {
    "duration": 6,
    "start_time": "2022-06-29T20:09:16.052Z"
   },
   {
    "duration": 1596,
    "start_time": "2022-06-29T20:09:18.095Z"
   },
   {
    "duration": 3,
    "start_time": "2022-06-29T20:09:58.277Z"
   },
   {
    "duration": 8,
    "start_time": "2022-06-29T20:10:03.837Z"
   },
   {
    "duration": 1544,
    "start_time": "2022-06-29T20:10:04.395Z"
   },
   {
    "duration": 5,
    "start_time": "2022-06-29T20:10:40.980Z"
   },
   {
    "duration": 1632,
    "start_time": "2022-06-29T20:10:41.825Z"
   },
   {
    "duration": 7,
    "start_time": "2022-06-29T20:10:51.943Z"
   },
   {
    "duration": 1610,
    "start_time": "2022-06-29T20:10:52.162Z"
   },
   {
    "duration": 7,
    "start_time": "2022-06-29T20:10:59.237Z"
   },
   {
    "duration": 1473,
    "start_time": "2022-06-29T20:11:00.210Z"
   },
   {
    "duration": 5,
    "start_time": "2022-06-29T20:11:21.592Z"
   },
   {
    "duration": 6,
    "start_time": "2022-06-29T20:11:23.946Z"
   },
   {
    "duration": 1515,
    "start_time": "2022-06-29T20:11:25.553Z"
   },
   {
    "duration": 6,
    "start_time": "2022-06-29T20:11:41.091Z"
   },
   {
    "duration": 1572,
    "start_time": "2022-06-29T20:11:41.598Z"
   },
   {
    "duration": 9,
    "start_time": "2022-06-29T20:12:27.531Z"
   },
   {
    "duration": 1499,
    "start_time": "2022-06-29T20:12:27.906Z"
   },
   {
    "duration": 8,
    "start_time": "2022-06-29T20:13:02.227Z"
   },
   {
    "duration": 1550,
    "start_time": "2022-06-29T20:13:03.314Z"
   },
   {
    "duration": 5,
    "start_time": "2022-06-29T20:13:42.184Z"
   },
   {
    "duration": 1584,
    "start_time": "2022-06-29T20:13:42.687Z"
   },
   {
    "duration": 59,
    "start_time": "2022-06-29T20:15:50.452Z"
   },
   {
    "duration": 6,
    "start_time": "2022-06-29T20:15:56.698Z"
   },
   {
    "duration": 1476,
    "start_time": "2022-06-29T20:15:58.326Z"
   },
   {
    "duration": 61,
    "start_time": "2022-06-29T20:16:29.033Z"
   },
   {
    "duration": 51,
    "start_time": "2022-06-29T20:16:35.193Z"
   },
   {
    "duration": 5,
    "start_time": "2022-06-29T20:16:50.385Z"
   },
   {
    "duration": 1590,
    "start_time": "2022-06-29T20:16:51.772Z"
   },
   {
    "duration": 3,
    "start_time": "2022-06-29T20:17:06.493Z"
   },
   {
    "duration": 7,
    "start_time": "2022-06-29T20:17:15.981Z"
   },
   {
    "duration": 1410,
    "start_time": "2022-06-29T20:17:16.283Z"
   },
   {
    "duration": 5,
    "start_time": "2022-06-29T20:17:30.179Z"
   },
   {
    "duration": 1411,
    "start_time": "2022-06-29T20:17:30.991Z"
   },
   {
    "duration": 5,
    "start_time": "2022-06-29T20:18:21.903Z"
   },
   {
    "duration": 1539,
    "start_time": "2022-06-29T20:18:22.283Z"
   },
   {
    "duration": 6,
    "start_time": "2022-06-29T20:18:52.404Z"
   },
   {
    "duration": 1450,
    "start_time": "2022-06-29T20:18:53.172Z"
   },
   {
    "duration": 7,
    "start_time": "2022-06-29T20:19:42.581Z"
   },
   {
    "duration": 1740,
    "start_time": "2022-06-29T20:19:42.937Z"
   },
   {
    "duration": 6,
    "start_time": "2022-06-29T20:20:43.111Z"
   },
   {
    "duration": 1500,
    "start_time": "2022-06-29T20:20:43.479Z"
   },
   {
    "duration": 6,
    "start_time": "2022-06-29T20:20:51.698Z"
   },
   {
    "duration": 1808,
    "start_time": "2022-06-29T20:20:52.598Z"
   },
   {
    "duration": 8,
    "start_time": "2022-06-29T20:20:59.312Z"
   },
   {
    "duration": 1842,
    "start_time": "2022-06-29T20:20:59.675Z"
   },
   {
    "duration": 7,
    "start_time": "2022-06-29T20:23:37.798Z"
   },
   {
    "duration": 1884,
    "start_time": "2022-06-29T20:23:37.998Z"
   },
   {
    "duration": 340,
    "start_time": "2022-06-29T20:24:07.852Z"
   },
   {
    "duration": 436,
    "start_time": "2022-06-29T20:24:22.499Z"
   },
   {
    "duration": 448,
    "start_time": "2022-06-29T20:24:27.547Z"
   },
   {
    "duration": 7,
    "start_time": "2022-06-29T20:24:54.891Z"
   },
   {
    "duration": 1816,
    "start_time": "2022-06-29T20:24:55.083Z"
   },
   {
    "duration": 7,
    "start_time": "2022-06-29T20:25:09.671Z"
   },
   {
    "duration": 1925,
    "start_time": "2022-06-29T20:25:10.147Z"
   },
   {
    "duration": 1883,
    "start_time": "2022-06-29T20:28:24.878Z"
   },
   {
    "duration": 1823,
    "start_time": "2022-06-29T20:29:03.870Z"
   },
   {
    "duration": 1370,
    "start_time": "2022-06-29T20:44:24.158Z"
   },
   {
    "duration": 161,
    "start_time": "2022-06-29T20:44:25.530Z"
   },
   {
    "duration": 148,
    "start_time": "2022-06-29T20:44:25.692Z"
   },
   {
    "duration": 140,
    "start_time": "2022-06-29T20:44:25.842Z"
   },
   {
    "duration": 11,
    "start_time": "2022-06-29T20:44:25.985Z"
   },
   {
    "duration": 38,
    "start_time": "2022-06-29T20:44:25.997Z"
   },
   {
    "duration": 38,
    "start_time": "2022-06-29T20:44:26.043Z"
   },
   {
    "duration": 52,
    "start_time": "2022-06-29T20:44:26.083Z"
   },
   {
    "duration": 7,
    "start_time": "2022-06-29T20:44:26.141Z"
   },
   {
    "duration": 16,
    "start_time": "2022-06-29T20:44:26.151Z"
   },
   {
    "duration": 14,
    "start_time": "2022-06-29T20:44:26.168Z"
   },
   {
    "duration": 367,
    "start_time": "2022-06-29T20:44:26.184Z"
   },
   {
    "duration": 11,
    "start_time": "2022-06-29T20:44:26.553Z"
   },
   {
    "duration": 17,
    "start_time": "2022-06-29T20:44:26.568Z"
   },
   {
    "duration": 65,
    "start_time": "2022-06-29T20:44:26.587Z"
   },
   {
    "duration": 44,
    "start_time": "2022-06-29T20:44:26.654Z"
   },
   {
    "duration": 4,
    "start_time": "2022-06-29T20:44:26.700Z"
   },
   {
    "duration": 32,
    "start_time": "2022-06-29T20:44:26.706Z"
   },
   {
    "duration": 24,
    "start_time": "2022-06-29T20:44:26.739Z"
   },
   {
    "duration": 6,
    "start_time": "2022-06-29T20:44:26.764Z"
   },
   {
    "duration": 329,
    "start_time": "2022-06-29T20:44:26.771Z"
   },
   {
    "duration": 11,
    "start_time": "2022-06-29T20:44:27.102Z"
   },
   {
    "duration": 21,
    "start_time": "2022-06-29T20:44:27.126Z"
   },
   {
    "duration": 36,
    "start_time": "2022-06-29T20:44:27.151Z"
   },
   {
    "duration": 6,
    "start_time": "2022-06-29T20:44:27.189Z"
   },
   {
    "duration": 55,
    "start_time": "2022-06-29T20:44:27.196Z"
   },
   {
    "duration": 9,
    "start_time": "2022-06-29T20:44:27.253Z"
   },
   {
    "duration": 347,
    "start_time": "2022-06-29T20:44:27.263Z"
   },
   {
    "duration": 3,
    "start_time": "2022-06-29T20:44:27.613Z"
   },
   {
    "duration": 29,
    "start_time": "2022-06-29T20:44:27.623Z"
   },
   {
    "duration": 32,
    "start_time": "2022-06-29T20:44:27.653Z"
   },
   {
    "duration": 145,
    "start_time": "2022-06-29T20:44:27.687Z"
   },
   {
    "duration": 110,
    "start_time": "2022-06-29T20:44:27.834Z"
   },
   {
    "duration": 80,
    "start_time": "2022-06-29T20:44:27.946Z"
   },
   {
    "duration": 147,
    "start_time": "2022-06-29T20:44:28.028Z"
   },
   {
    "duration": 63,
    "start_time": "2022-06-29T20:44:28.177Z"
   },
   {
    "duration": 97,
    "start_time": "2022-06-29T20:44:28.247Z"
   },
   {
    "duration": 8,
    "start_time": "2022-06-29T20:44:28.346Z"
   },
   {
    "duration": 7,
    "start_time": "2022-06-29T20:44:28.356Z"
   },
   {
    "duration": 7,
    "start_time": "2022-06-29T20:44:28.365Z"
   },
   {
    "duration": 6,
    "start_time": "2022-06-29T20:44:28.376Z"
   },
   {
    "duration": 1894,
    "start_time": "2022-06-29T20:44:28.383Z"
   },
   {
    "duration": 1835,
    "start_time": "2022-06-29T20:44:30.279Z"
   },
   {
    "duration": 1900,
    "start_time": "2022-06-29T20:44:32.115Z"
   },
   {
    "duration": 1439,
    "start_time": "2022-06-29T20:45:24.337Z"
   },
   {
    "duration": 150,
    "start_time": "2022-06-29T20:45:25.778Z"
   },
   {
    "duration": 144,
    "start_time": "2022-06-29T20:45:25.931Z"
   },
   {
    "duration": 136,
    "start_time": "2022-06-29T20:45:26.076Z"
   },
   {
    "duration": 21,
    "start_time": "2022-06-29T20:45:26.215Z"
   },
   {
    "duration": 36,
    "start_time": "2022-06-29T20:45:26.240Z"
   },
   {
    "duration": 41,
    "start_time": "2022-06-29T20:45:26.277Z"
   },
   {
    "duration": 57,
    "start_time": "2022-06-29T20:45:26.320Z"
   },
   {
    "duration": 5,
    "start_time": "2022-06-29T20:45:26.378Z"
   },
   {
    "duration": 16,
    "start_time": "2022-06-29T20:45:26.385Z"
   },
   {
    "duration": 21,
    "start_time": "2022-06-29T20:45:26.403Z"
   },
   {
    "duration": 372,
    "start_time": "2022-06-29T20:45:26.429Z"
   },
   {
    "duration": 10,
    "start_time": "2022-06-29T20:45:26.803Z"
   },
   {
    "duration": 23,
    "start_time": "2022-06-29T20:45:26.822Z"
   },
   {
    "duration": 47,
    "start_time": "2022-06-29T20:45:26.846Z"
   },
   {
    "duration": 56,
    "start_time": "2022-06-29T20:45:26.894Z"
   },
   {
    "duration": 4,
    "start_time": "2022-06-29T20:45:26.951Z"
   },
   {
    "duration": 12,
    "start_time": "2022-06-29T20:45:26.957Z"
   },
   {
    "duration": 11,
    "start_time": "2022-06-29T20:45:26.971Z"
   },
   {
    "duration": 6,
    "start_time": "2022-06-29T20:45:26.984Z"
   },
   {
    "duration": 351,
    "start_time": "2022-06-29T20:45:26.991Z"
   },
   {
    "duration": 13,
    "start_time": "2022-06-29T20:45:27.343Z"
   },
   {
    "duration": 18,
    "start_time": "2022-06-29T20:45:27.358Z"
   },
   {
    "duration": 60,
    "start_time": "2022-06-29T20:45:27.377Z"
   },
   {
    "duration": 6,
    "start_time": "2022-06-29T20:45:27.439Z"
   },
   {
    "duration": 40,
    "start_time": "2022-06-29T20:45:27.451Z"
   },
   {
    "duration": 8,
    "start_time": "2022-06-29T20:45:27.493Z"
   },
   {
    "duration": 347,
    "start_time": "2022-06-29T20:45:27.503Z"
   },
   {
    "duration": 4,
    "start_time": "2022-06-29T20:45:27.854Z"
   },
   {
    "duration": 9,
    "start_time": "2022-06-29T20:45:27.860Z"
   },
   {
    "duration": 35,
    "start_time": "2022-06-29T20:45:27.870Z"
   },
   {
    "duration": 140,
    "start_time": "2022-06-29T20:45:27.907Z"
   },
   {
    "duration": 193,
    "start_time": "2022-06-29T20:45:28.053Z"
   },
   {
    "duration": 84,
    "start_time": "2022-06-29T20:45:28.250Z"
   },
   {
    "duration": 115,
    "start_time": "2022-06-29T20:45:28.336Z"
   },
   {
    "duration": 83,
    "start_time": "2022-06-29T20:45:28.453Z"
   },
   {
    "duration": 93,
    "start_time": "2022-06-29T20:45:28.538Z"
   },
   {
    "duration": 5,
    "start_time": "2022-06-29T20:45:28.637Z"
   },
   {
    "duration": 11,
    "start_time": "2022-06-29T20:45:28.643Z"
   },
   {
    "duration": 10,
    "start_time": "2022-06-29T20:45:28.656Z"
   },
   {
    "duration": 6,
    "start_time": "2022-06-29T20:45:28.670Z"
   },
   {
    "duration": 1906,
    "start_time": "2022-06-29T20:45:28.677Z"
   },
   {
    "duration": 1882,
    "start_time": "2022-06-29T20:45:30.586Z"
   },
   {
    "duration": 1957,
    "start_time": "2022-06-29T20:45:32.469Z"
   }
  ],
  "kernelspec": {
   "display_name": "Python 3 (ipykernel)",
   "language": "python",
   "name": "python3"
  },
  "language_info": {
   "codemirror_mode": {
    "name": "ipython",
    "version": 3
   },
   "file_extension": ".py",
   "mimetype": "text/x-python",
   "name": "python",
   "nbconvert_exporter": "python",
   "pygments_lexer": "ipython3",
   "version": "3.9.7"
  },
  "toc": {
   "base_numbering": 1,
   "nav_menu": {},
   "number_sections": true,
   "sideBar": true,
   "skip_h1_title": true,
   "title_cell": "Table of Contents",
   "title_sidebar": "Contents",
   "toc_cell": false,
   "toc_position": {
    "height": "calc(100% - 180px)",
    "left": "10px",
    "top": "150px",
    "width": "300.742px"
   },
   "toc_section_display": true,
   "toc_window_display": true
  }
 },
 "nbformat": 4,
 "nbformat_minor": 2
}
